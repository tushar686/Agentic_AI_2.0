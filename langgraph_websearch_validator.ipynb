{
 "cells": [
  {
   "cell_type": "code",
   "execution_count": 1,
   "id": "9cadab7b",
   "metadata": {},
   "outputs": [],
   "source": [
    "from dotenv import load_dotenv\n",
    "import os\n",
    "\n",
    "load_dotenv()\n",
    "\n",
    "os.environ[\"GROQ_API_KEY\"] = os.getenv(\"GROQ_API_KEY\")\n",
    "os.environ[\"TAVILY_API_KEY\"]=os.getenv(\"TAVILY_API_KEY\")\n",
    "os.environ['HF_TOKEN']=os.getenv(\"HF_TOKEN\")"
   ]
  },
  {
   "cell_type": "code",
   "execution_count": null,
   "id": "e7b98cfc",
   "metadata": {},
   "outputs": [],
   "source": []
  },
  {
   "cell_type": "code",
   "execution_count": null,
   "id": "fe197efb",
   "metadata": {},
   "outputs": [],
   "source": [
    "from pydantic import BaseModel, Field\n",
    "from langchain_core.output_parsers import BaseOutputParser\n",
    "import re\n",
    "import json\n",
    "\n",
    "class RobustPydanticParser(BaseOutputParser):\n",
    "    def __init__(self, pydantic_object):\n",
    "        super().__init__()\n",
    "        self._pydantic_object = pydantic_object\n",
    "\n",
    "    def parse(self, text):\n",
    "        match = re.search(r\"\\{.*\\}\", text, re.DOTALL)\n",
    "        if not match:\n",
    "            raise ValueError(\"No JSON object found in LLM output\")\n",
    "        json_str = match.group(0)\n",
    "        json_str = json_str.replace(\"\\\\'\", \"'\")\n",
    "        try:\n",
    "            data = json.loads(json_str)\n",
    "        except Exception:\n",
    "            # Fallback: replace single quotes with double quotes\n",
    "            data = json.loads(re.sub(r\"'\", '\"', json_str))\n",
    "        return self._pydantic_object.model_validate(data)\n",
    "    \n",
    "    def get_format_instructions(self) -> str:\n",
    "        return (\n",
    "            \"Respond ONLY with a valid JSON object using double quotes for all keys and string values. \"\n",
    "            \"The object must have the following fields:\\n\"\n",
    "            \"  - Category: one of 'economical', 'medium', or 'expensive'\\n\"\n",
    "            \"  - Reasoning: a string explaining the classification\\n\"\n",
    "            \"Example:\\n\"\n",
    "            '{\\n  \"Category\": \"expensive\",\\n  \"Reasoning\": \"Nike shoes are generally priced above $100, placing them in the expensive category as the final price exceeds $100.\"\\n}'\n",
    "        )    \n",
    "    \n",
    "class Product(BaseModel):\n",
    "    Category:str = Field(description=\"category of product (economical, medium, expensive)\")\n",
    "    Reasoning:str = Field(description=\"reasoning behind category selection\")    \n",
    "\n",
    "parser = RobustPydanticParser(Product)"
   ]
  },
  {
   "cell_type": "code",
   "execution_count": null,
   "id": "617bdc59",
   "metadata": {},
   "outputs": [],
   "source": [
    "from typing import TypedDict, Annotated, Sequence\n",
    "from langchain_core.messages import BaseMessage\n",
    "import operator\n",
    "\n",
    "class AgentState(TypedDict):\n",
    "    messages: Annotated[Sequence[BaseMessage], operator.add]\n",
    "    validation: Annotated[Sequence[BaseMessage], operator.add]"
   ]
  },
  {
   "cell_type": "code",
   "execution_count": 72,
   "id": "f12d6885",
   "metadata": {},
   "outputs": [],
   "source": [
    "\n",
    "from langchain_huggingface import HuggingFaceEmbeddings\n",
    "embeddings = HuggingFaceEmbeddings(model_name=\"BAAI/bge-small-en-v1.5\")"
   ]
  },
  {
   "cell_type": "code",
   "execution_count": 73,
   "id": "e07f3063",
   "metadata": {},
   "outputs": [],
   "source": [
    "from langchain.document_loaders.csv_loader import CSVLoader\n",
    "\n",
    "loader = CSVLoader(\"walmart-products.csv\", encoding=\"utf-8\")\n",
    "documents = loader.load()\n",
    "\n",
    "from langchain_community.vectorstores import FAISS\n",
    "\n",
    "vector_store = FAISS.from_documents(documents, embeddings)\n",
    "retriever = vector_store.as_retriever(search_type=\"similarity\", search_kwargs={\"k\": 1})"
   ]
  },
  {
   "cell_type": "code",
   "execution_count": 14,
   "id": "8f62682c",
   "metadata": {},
   "outputs": [],
   "source": [
    "from langchain_groq import ChatGroq\n",
    "\n",
    "model = ChatGroq(model=\"qwen-qwq-32b\")"
   ]
  },
  {
   "cell_type": "code",
   "execution_count": null,
   "id": "384f2ee2",
   "metadata": {},
   "outputs": [],
   "source": []
  },
  {
   "cell_type": "code",
   "execution_count": 308,
   "id": "047eddaa",
   "metadata": {},
   "outputs": [],
   "source": [
    "import re\n",
    "from langchain.prompts import PromptTemplate\n",
    "from langchain_core.output_parsers import StrOutputParser\n",
    "\n",
    "str_parser = StrOutputParser()\n",
    "\n",
    "def remove_think_tags(response):\n",
    "    \"\"\"\n",
    "    Removes <think>...</think> blocks from a string and returns the rest, stripped of leading/trailing whitespace.\n",
    "    \"\"\"\n",
    "    text = str(response)\n",
    "    cleaned = re.sub(r'<think>.*?</think>', '', text, flags=re.DOTALL|re.IGNORECASE)\n",
    "    return cleaned.strip()\n",
    "\n",
    "def supervisor(state: AgentState):\n",
    "    print(\"<-- Supervisor -->\")\n",
    "    print(f'state= {state}')\n",
    "    if not state.get(\"validation\")[-1]:\n",
    "        return {\"messages\": [\"Search\"]}\n",
    "\n",
    "    question = state[\"messages\"][-1]\n",
    "    print(f'question= {question}')\n",
    "\n",
    "    template=\"\"\"\n",
    "        Your task is check if the question is for the ecommerce product or a person. \n",
    "        If it is for the proudct then determine if the given 'question' is product in Walmart and if it is then return Walmart.\n",
    "        \n",
    "        Respond ONLY with string 'Walmart', 'Amazon' or 'Search'. Do not include any thing or other content.\n",
    "\n",
    "        question: {question}\n",
    "    \"\"\"\n",
    "\n",
    "\n",
    "    prompt = PromptTemplate(\n",
    "        template = template,\n",
    "        input_variables=[\"question\"],\n",
    "    )\n",
    "\n",
    "    chain = prompt | model | str_parser\n",
    "\n",
    "    resp = chain.invoke({\"question\": question})\n",
    "    # print(resp)\n",
    "    answer = remove_think_tags(resp)\n",
    "\n",
    "    return {\"messages\": [answer]}"
   ]
  },
  {
   "cell_type": "code",
   "execution_count": 240,
   "id": "30448659",
   "metadata": {},
   "outputs": [
    {
     "name": "stdout",
     "output_type": "stream",
     "text": [
      "<-- Supervisor -->\n",
      "state= {'messages': ['Hello']}\n",
      "question= Hello\n",
      "\n",
      "<think>\n",
      "Okay, let's tackle this query. The user said \"Hello\". First, I need to determine if this is a question about an ecommerce product or a person. \"Hello\" is just a greeting, so it's not asking about a product. Since it's not a product-related question, I shouldn't check Walmart or Amazon. The instructions say to respond with 'Search' if it's neither. So the answer here should be Search.\n",
      "</think>\n",
      "\n",
      "Search\n"
     ]
    },
    {
     "data": {
      "text/plain": [
       "{'messages': ['Search']}"
      ]
     },
     "execution_count": 240,
     "metadata": {},
     "output_type": "execute_result"
    }
   ],
   "source": [
    "supervisor({\"messages\": [\"Hello\"]})"
   ]
  },
  {
   "cell_type": "code",
   "execution_count": 291,
   "id": "f291547b",
   "metadata": {},
   "outputs": [],
   "source": [
    "from langchain.prompts import PromptTemplate\n",
    "\n",
    "def llm_node(state: AgentState):\n",
    "    print(\"<-- LLM Call-->\")\n",
    "    print(f'state= {state}')\n",
    "\n",
    "    product = state[\"messages\"][-1]\n",
    "    print(f'product= {product}')\n",
    "\n",
    "    template=\"\"\"\n",
    "        Your task is to classify the given 'product' into one of the following categories: [economical, medium, expensive].\n",
    "        The product is economical if its final price is less than 50.\n",
    "        The product is medium if its final price is between 51 and 100. \n",
    "        The product is expensive if its final price is between greater than 100. \n",
    "        \n",
    "        Respond ONLY with a valid JSON object matching this format:\n",
    "        {{\n",
    "        \"Category\": \"<economical|medium|expensive>\",\n",
    "        \"Reasoning\": \"<your reasoning here>\"\n",
    "        }}\n",
    "\n",
    "       Respond ONLY with a valid JSON object using double quotes for all keys and string values. Do NOT use single quotes or backslash escapes. Do not include newline char like '\\n' in the respopnse. Do not include any other text, markdown, or explanation.\n",
    "\n",
    "        product: {product}\n",
    "        {format_instructions}\n",
    "    \"\"\"\n",
    "\n",
    "\n",
    "    prompt = PromptTemplate(\n",
    "        template = template,\n",
    "        input_variables=[\"product\"],\n",
    "        partial_variables = {\"format_instructions\": parser.get_format_instructions()}\n",
    "    )\n",
    "\n",
    "    chain = prompt | model | parser\n",
    "\n",
    "    resp = chain.invoke({\"product\": product})\n",
    "\n",
    "    return {\"messages\": [resp.Category]}"
   ]
  },
  {
   "cell_type": "code",
   "execution_count": 191,
   "id": "3519fbfd",
   "metadata": {},
   "outputs": [
    {
     "name": "stdout",
     "output_type": "stream",
     "text": [
      "<-- LLM -->\n",
      "state= {'messages': ['Bose Headphone']}\n",
      "product= Bose Headphone\n"
     ]
    },
    {
     "data": {
      "text/plain": [
       "{'messages': ['expensive']}"
      ]
     },
     "execution_count": 191,
     "metadata": {},
     "output_type": "execute_result"
    }
   ],
   "source": [
    "llm_node({\"messages\": [\"Bose Headphone\"]})"
   ]
  },
  {
   "cell_type": "code",
   "execution_count": 292,
   "id": "5a545f93",
   "metadata": {},
   "outputs": [],
   "source": [
    "from langchain_core.runnables import RunnablePassthrough\n",
    "import re\n",
    "\n",
    "def rag_node(state: AgentState):\n",
    "    print(\"<-- RAG Call -->\")\n",
    "    product = state[\"messages\"][0]\n",
    "    print(product)\n",
    "\n",
    "    prompt = PromptTemplate(\n",
    "        template=\"\"\"You are a ecommerce catalog search assitant. Use the following pieces of retrieved context to answer the product details. If you don't \n",
    "        know the answer, respond that 'I don't know', nothing extra. Use three sentences maximum and keep the response concise. \\nProduct: {product} \\nContext: {context} \n",
    "        \\n Answer:\n",
    "\n",
    "        These are comma separated fields in the context. Please include 'final price' in the response.\n",
    "        timestamp,url,final_price,sku,currency,gtin,specifications,image_urls,top_reviews,rating_stars,related_pages,available_for_delivery,available_for_pickup,brand,breadcrumbs,category_ids,review_count,description,product_id,product_name,review_tags,category_url,category_name,category_path,root_category_url,root_category_name,upc,tags,main_image,rating,unit_price,unit,aisle,free_returns,sizes,colors,seller,other_attributes,customer_reviews,ingredients,initial_price,discount,ingredients_full,categories\n",
    "        \"\"\",\n",
    "        input_variables=['context', 'product']\n",
    "    )\n",
    "\n",
    "    rag_chain = (\n",
    "        {\"context\": retriever, \"product\": RunnablePassthrough()}\n",
    "        | prompt\n",
    "        | model\n",
    "        | StrOutputParser()\n",
    "    )\n",
    "\n",
    "    rag_response = rag_chain.invoke(product)\n",
    "    # print(rag_response)\n",
    "    result = remove_think_tags(rag_response)\n",
    "    # print(result)\n",
    "    return {\"messages\": [result]}"
   ]
  },
  {
   "cell_type": "code",
   "execution_count": 245,
   "id": "913873e3",
   "metadata": {},
   "outputs": [
    {
     "name": "stdout",
     "output_type": "stream",
     "text": [
      "<-- RAG Call -->\n",
      "Toothbursh\n"
     ]
    },
    {
     "data": {
      "text/plain": [
       "{'messages': ['Parodontax Active Gum Repair Whitening Toothpaste (3.4 oz) is an enamel-safe paste aiding gum repair and whitening, priced at $11.01 (final price) after a $1.97 discount from $12.98, with a 4.6/5 rating from 485 reviews.']}"
      ]
     },
     "execution_count": 245,
     "metadata": {},
     "output_type": "execute_result"
    }
   ],
   "source": [
    "# rag_node({\"messages\": [\"Nike Men Shoe\"]})\n",
    "# rag_node({\"messages\": [\"FUBU Shoe\"]})\n",
    "rag_node({\"messages\": [\"Toothbursh\"]})"
   ]
  },
  {
   "cell_type": "code",
   "execution_count": 311,
   "id": "2d3055e1",
   "metadata": {},
   "outputs": [],
   "source": [
    "from langchain_community.tools import TavilySearchResults\n",
    "\n",
    "def web_search_node(state: AgentState):\n",
    "    print(\"<-- Web Search -->\")\n",
    "    question = state[\"messages\"][0]\n",
    "\n",
    "    tool = TavilySearchResults()\n",
    "\n",
    "    resp = tool.invoke(question)\n",
    "    return {\"messages\": [resp]}"
   ]
  },
  {
   "cell_type": "code",
   "execution_count": 203,
   "id": "5bb89922",
   "metadata": {},
   "outputs": [
    {
     "name": "stdout",
     "output_type": "stream",
     "text": [
      "<-- Web Search -->\n"
     ]
    },
    {
     "data": {
      "text/plain": [
       "{'messages': [[{'title': 'How Are You? | Emotions Song | Wormhole Learning - Songs For Kids',\n",
       "    'url': 'https://www.youtube.com/watch?v=O13gITUS5t4&pp=0gcJCf0Ao7VqN5tD',\n",
       "    'content': \"Hi, Judy. How are you?\\n Hi, Judy. How are you?\\n I am happy!\\n Yes, I am happy!\\n \\n Hi, Bobby. How are you?\\n Hi, Bobby. How are you?\\n I am sad. \\n Yes, I am sad.\\n \\nOh, don't be sad, Bobby!\\n\\n Hi, Judy. How are you?\\n Hi, Judy. How are you?\\n I am angry! \\n Yes, I am angry!\\n \\nHumph!\\n\\n Hi, Bobby. How are you?\\n Hi, Bobby. How are you?\\n I am hungry! \\n Yes, I am hungry!\\n \\nHere, Bobby. Have my ice cream.\\nThank you! Now I am full. [...] Hi, children. How are you?\\n Hi, children. How are you?\\n I'm happy!   \\n I'm sad! \\n I'm angry!   \\n I'm hungry! \\n I'm happy!   \\n I'm sad! \\n I'm angry!   \\n I'm hungry! \\n\\n[All music by Alfred Henshaw-Hill, © Copyright Wormhole Learning, 2022] [...] hi judy how are you i am happy let's sing a song hi judy how are you hi judy how are you i am happy [Music] yes i am happy hi bobby how are you hi bobby how are you i am sad [Music] yes i am sad [Music] [Laughter] oh don't be sad bobby hi judy how are you hi judy how are you i am angry [Music] yes i am angry [Music] hi bobby how are you hi bobby how are you i am hungry [Music] yes i am hungry here bobby have my ice cream thank you now i am full hi children how are you hi children how are you\",\n",
       "    'score': 0.6947383},\n",
       "   {'title': 'How are you? | Emotions song for children | English Through Music',\n",
       "    'url': 'https://www.youtube.com/watch?v=fMR8Hr9Xby4',\n",
       "    'content': \"# How are you? |  Emotions song for children | English Through Music\\n\\nEnglishThroughMusic Madrid\\n9567 likes\\n2635721 views\\n22 Oct 2015\\nLYRICS:\\nI'm happy, I'm happy, I'm happy, I'm very happy (x2)\\nHow are you? How are you? How are you, today?\\nI'm sad, I'm sad, I'm sad I'm very sad (x2)\\nI'm angry\\nI'm tired\\nI'm hungry\\n\\nHow are you?  Song to teach emotions to young children kids with fun dance moves. [...] Go to http://www.englishthroughmusic.es for more information about English Through Music, including more songs, raps, and videos for learning and teaching English.\\n\\nVOCABULARY: Happy, Sad, Angry Tired, Hungry, very, how are you?\\nGRAMMAR: I'm (Instead of 'I am' for correct speaking)\\n\\nFor LYRICS on screen: Click the small box with 2 lines in it (bottom of video).\",\n",
       "    'score': 0.6755297},\n",
       "   {'title': '9 Ways to Ask “How Are You?” - Grammarly',\n",
       "    'url': 'https://www.grammarly.com/blog/writing-tips/how-are-you/',\n",
       "    'content': '**3 Are you OK?** The meaning of this phrase depends on the context. In England, for example, this simply means “How are you?” while Americans may use this phrase to check if someone requires assistance.\\n\\n**4 How’s it going?** This is casual. You’re asking how a person’s life has been lately, in a more general sense.\\n\\n**5 What’s up?** This is essentially a casual hello. [...] Conversely, if you’re [emailing](https://www.grammarly.com/blog/emailing/how-to-start-an-email/) or messaging your manager who just got back from parental leave, something slightly more formal and targeted might make more sense, like “How are you doing with the new baby?” That way you show interest in their major life event while keeping things professional.\\n\\nHere are a few more examples of how to use “How are you?” and its alternatives in conversation: [...] .gdpr=true&redirectURL=aHR0cHM6Ly9waXhlbC50YXBhZC5jb20vaWRzeW5jL2V4L3JlY2VpdmU_cGFydG5lcl9pZD0yOTk0JjwjaWYgcmVxdWVzdC5saXN0ZW5lcklkP21hdGNoZXMoJ1swLTlhLWZdezh9LVswLTlhLWZdezR9LVswLTlhLWZdezR9LVswLTlhLWZdezR9LVswLTlhLWZdezEyfScpPnBhcnRuZXJfdHlwZWRfZGlkPSU3QiUyMkhBUkRXQVJFX0FORFJPSURfQURfSUQlMjIlM0ElMjIke3JlcXVlc3QubGlzdGVuZXJJZH0lMjIlN0Q8I2Vsc2VpZiByZXF1ZXN0Lmxpc3RlbmVySWQ_bWF0Y2hlcygnWzAtOUEtRl17OH0tWzAtOUEtRl17NH0tWzAtOUEtRl17NH0tWzAtOUEtRl17NH0tWzAtOUEtRl17MTJ9Jyk-cGFydG5lcl90eXBlZF9kaWQ9JTdCJ',\n",
       "    'score': 0.66569364},\n",
       "   {'title': 'Should I answer, \"Hi, how are you?\" Is it just a question or greeting?',\n",
       "    'url': 'https://www.reddit.com/r/EnglishLearning/comments/qx74mv/should_i_answer_hi_how_are_you_is_it_just_a/',\n",
       "    'content': 'The proper response is “Good, how are you?” If you hear an American say anything other than “good” or “great” it means something is really wrong',\n",
       "    'score': 0.6557114},\n",
       "   {'title': 'How To Answer the Question “How Are You?” | Indeed.com',\n",
       "    'url': 'https://www.indeed.com/career-advice/career-development/how-are-you-response',\n",
       "    'content': 'Good: “Good” is the most common answer to the question “How are you?” It is polite and cheerful. Well or very well:',\n",
       "    'score': 0.63452125}]]}"
      ]
     },
     "execution_count": 203,
     "metadata": {},
     "output_type": "execute_result"
    }
   ],
   "source": [
    "web_search_node({\"messages\": [\"how are you\"]})"
   ]
  },
  {
   "cell_type": "code",
   "execution_count": 300,
   "id": "542794e9",
   "metadata": {},
   "outputs": [],
   "source": [
    "def router(state: AgentState):\n",
    "    print(\"<-- Router -->\")\n",
    "    last_message = state[\"messages\"][-1]\n",
    "    print(f'{last_message=}')\n",
    "\n",
    "    if \"walmart\" in last_message.lower():\n",
    "        return \"RAG Call\"\n",
    "    elif \"amazon\" in last_message.lower():\n",
    "        return \"LLM Call\"\n",
    "    return \"Web Search Call\"\n",
    "\n",
    "def validator(state: AgentState) -> bool:\n",
    "    print(\"<-- Validator -->\")\n",
    "    print(state[\"messages\"][-1])\n",
    "    if \"don't know\" in state[\"messages\"][-1]:\n",
    "        return {\"validation\": [False]}\n",
    "    else:\n",
    "        return {\"validation\": [True]}"
   ]
  },
  {
   "cell_type": "code",
   "execution_count": 312,
   "id": "9dbb6676",
   "metadata": {},
   "outputs": [
    {
     "data": {
      "image/png": "[encoded data removed]",
      "text/plain": [
       "<IPython.core.display.Image object>"
      ]
     },
     "metadata": {},
     "output_type": "display_data"
    }
   ],
   "source": [
    "from langgraph.graph import StateGraph\n",
    "from IPython.display import display, Image\n",
    "\n",
    "workflow = StateGraph(AgentState)\n",
    "\n",
    "workflow.add_node(\"Supervisor\", supervisor)\n",
    "workflow.add_node(\"RAG\", rag_node)\n",
    "workflow.add_node(\"LLM\", llm_node)\n",
    "workflow.add_node(\"WEB\", web_search_node)\n",
    "workflow.add_node(\"Validator\", validator)\n",
    "\n",
    "workflow.set_entry_point(\"Supervisor\")\n",
    "\n",
    "workflow.add_conditional_edges(\n",
    "    \"Supervisor\",\n",
    "    router,\n",
    "    {\n",
    "        \"RAG Call\": \"RAG\",\n",
    "        \"LLM Call\": \"LLM\",\n",
    "        \"Web Search Call\": \"WEB\",\n",
    "    }\n",
    ")\n",
    "\n",
    "workflow.add_edge(\"RAG\", \"Validator\")\n",
    "workflow.add_edge(\"LLM\", \"Validator\")\n",
    "workflow.add_edge(\"WEB\", \"Validator\")\n",
    "\n",
    "workflow.add_conditional_edges(\n",
    "    \"Validator\",\n",
    "    lambda state: \"END\" if state.get(\"validation\")[-1] else \"Supervisor\",\n",
    "    {\n",
    "        \"END\": \"__end__\",\n",
    "        \"Supervisor\": \"Supervisor\"\n",
    "    }\n",
    ")\n",
    "\n",
    "app = workflow.compile()\n",
    "\n",
    "display(Image(app.get_graph().draw_mermaid_png()))"
   ]
  },
  {
   "cell_type": "code",
   "execution_count": 313,
   "id": "dc2a7e5e",
   "metadata": {},
   "outputs": [
    {
     "name": "stdout",
     "output_type": "stream",
     "text": [
      "<-- Supervisor -->\n",
      "state= {'messages': ['Nike Shoe for Men'], 'validation': [True]}\n",
      "question= Nike Shoe for Men\n",
      "<-- Router -->\n",
      "last_message='Walmart'\n",
      "<-- RAG Call -->\n",
      "Nike Shoe for Men\n",
      "<-- Validator -->\n",
      "I don't know. The retrieved context describes FUBU Men's Knight Basketball High-Top Shoes, not Nike shoes. Final price for the FUBU shoes is $26.\n",
      "<-- Supervisor -->\n",
      "state= {'messages': ['Nike Shoe for Men', 'Walmart', \"I don't know. The retrieved context describes FUBU Men's Knight Basketball High-Top Shoes, not Nike shoes. Final price for the FUBU shoes is $26.\"], 'validation': [True, False]}\n",
      "<-- Router -->\n",
      "last_message='Search'\n",
      "<-- Web Search -->\n",
      "<-- Validator -->\n",
      "[{'title': 'Mens Lifestyle Shoes. Nike.com', 'url': 'https://www.nike.com/w/mens-lifestyle-shoes-13jrmznik1zy7ok', 'content': \"- [Nike Air](https://www.nike.com/air)\\n  - [Nike Air Force 1](https://www.nike.com/air-force-1)\\n  - [Nike Air Max](https://www.nike.com/air-max)\\n  - [Nike FlyEase](https://www.nike.com/flyease)\\n  - [Nike Flyknit](https://www.nike.com/flyknit)\\n  - [Nike Free](https://www.nike.com/free)\\n  - [Nike React](https://www.nike.com/react)\\n  - [Nike Vaporfly](https://www.nike.com/running/vaporfly)\\n  - [Nike ZoomX](https://www.nike.com/zoomx)\\n  - [Space Hippie](https://www.nike.com/space-hippie) [...] [Nike P-6000](https://www.nike.com/t/p-6000-mens-shoes-XkgpKW/IH0246-320)[![Nike P-6000 Men's Shoes](https://static.nike.com/a/images/c_limit,w_592,f_auto/t_product_v1/159f5244-d4f3-469d-9dad-6d5e6ea401e5/NIKE+P-6000.png)![Nike P-6000 Men's Shoes]()](https://www.nike.com/t/p-6000-mens-shoes-XkgpKW/IH0246-320)\\n\\nNike P-6000\\n\\nMen's Shoes\\n\\n9 Colors\\n\\n$125 [...] - [Men's Shoes $100 & Under](https://www.nike.com/w/mens-100-and-under-shoes-3s37kznik1zy7ok)\\n- [White Shoes](https://www.nike.com/w/white-shoes-4g797zy7ok)\\n- [Men's Road Running Shoes](https://www.nike.com/w/mens-road-running-shoes-37v7jz8kwewznik1zy7ok)\\n- [Shoes $100 & Under](https://www.nike.com/w/100-and-under-shoes-3s37kzy7ok)\\n- [Men's Golf High Top Shoes](https://www.nike.com/w/mens-golf-high-top-shoes-23q9wz6lqy0znik1zy7ok)\", 'score': 0.8282873}, {'title': \"Men's Shoes & Sneakers. Nike.com\", 'url': 'https://www.nike.com/w/mens-shoes-nik1zy7ok', 'content': '[Air Max](https://www.nike.com/w/mens-air-max-shoes-a6d8hznik1zy7ok)[Alpha Huarache](https://www.nike.com/w/mens-alpha-huarache-shoes-b0w8uznik1zy7ok)[Blazer](https://www.nike.com/w/mens-blazer-shoes-9gw3aznik1zy7ok)[Cortez](https://www.nike.com/w/mens-cortez-shoes-byfxznik1zy7ok)[Internationalist](https://www.nike.com/w/mens-internationalist-shoes-asnp1znik1zy7ok)Nike Alphafly[Nike Vaporfly](https://www.nike.com/w/mens-nike-vaporfly-shoes-5mvs0znik1zy7ok)Nike Zoom [...] - [Nike Air](https://www.nike.com/air)\\n  - [Nike Air Force 1](https://www.nike.com/air-force-1)\\n  - [Nike Air Max](https://www.nike.com/air-max)\\n  - [Nike FlyEase](https://www.nike.com/flyease)\\n  - [Nike Flyknit](https://www.nike.com/flyknit)\\n  - [Nike Free](https://www.nike.com/free)\\n  - [Nike React](https://www.nike.com/react)\\n  - [Nike Vaporfly](https://www.nike.com/running/vaporfly)\\n  - [Nike ZoomX](https://www.nike.com/zoomx)\\n  - [Space Hippie](https://www.nike.com/space-hippie) [...] - Less\\n\\nCollections\\n\\n(0)\\n\\n[Air Force 1](https://www.nike.com/w/mens-air-force-1-shoes-5sj3yznik1zy7ok)[Nike Pegasus](https://www.nike.com/w/mens-pegasus-shoes-8nexhznik1zy7ok)Nike Motiva[Foamposite](https://www.nike.com/w/mens-foamposite-shoes-5j7daznik1zy7ok)\\n\\n+ More', 'score': 0.82048416}, {'title': 'Mens Sale Shoes. Nike.com', 'url': 'https://www.nike.com/w/mens-sale-shoes-3yaepznik1zy7ok', 'content': '*   [Nike Air](https://www.nike.com/air)\\n    *   [Nike Air Force 1](https://www.nike.com/air-force-1)\\n    *   [Nike Air Max](https://www.nike.com/air-max)\\n    *   [Nike FlyEase](https://www.nike.com/flyease)\\n    *   [Nike Flyknit](https://www.nike.com/flyknit)\\n    *   [Nike Free](https://www.nike.com/free)\\n    *   [Nike React](https://www.nike.com/react)\\n    *   [Nike Vaporfly](https://www.nike.com/running/vaporfly)\\n    *   [Nike ZoomX](https://www.nike.com/zoomx) [...] - Less\\n\\nCollections\\n\\n(0)\\n\\nAir Force 1 Nike Pegasus Nike Motiva[Air Max](https://www.nike.com/w/mens-sale-air-max-shoes-3yaepza6d8hznik1zy7ok)\\n\\n+ More\\n\\nBlazer Cortez Metcon Nike Dunk Nike Vomero Jordan Editions\\n\\n- Less\\n\\nShoe Height\\n\\n(0)\\n\\nLow Top Mid Top High Top\\n\\nClosure Type\\n\\n(0)\\n\\nSlip On Strap Zipper Toggle\\n\\nWidth\\n\\n(0)\\n\\nRegular Wide Extra Wide [...] *   [Shoes](https://www.nike.com/w/mens-shoes-nik1zy7ok)\\n    *   [All Shoes](https://www.nike.com/w/mens-shoes-nik1zy7ok)\\n    *   [Basketball](https://www.nike.com/w/mens-basketball-shoes-3glsmznik1zy7ok)\\n    *   [Lifestyle](https://www.nike.com/w/mens-lifestyle-shoes-13jrmznik1zy7ok)\\n    *   [Jordan](https://www.nike.com/w/mens-jordan-shoes-37eefznik1zy7ok)\\n    *   [Retro Running](https://www.nike.com/w/mens-retro-running-shoes-8kemkznik1zy7ok)', 'score': 0.8055255}, {'title': 'Mens Shoes $100 and Under - Nike', 'url': 'https://www.nike.com/w/mens-under-100-shoes-av8b2znik1zy7ok', 'content': '- [Nike Air](https://www.nike.com/air)\\n  - [Nike Air Force 1](https://www.nike.com/air-force-1)\\n  - [Nike Air Max](https://www.nike.com/air-max)\\n  - [Nike FlyEase](https://www.nike.com/flyease)\\n  - [Nike Flyknit](https://www.nike.com/flyknit)\\n  - [Nike Free](https://www.nike.com/free)\\n  - [Nike React](https://www.nike.com/react)\\n  - [Nike Vaporfly](https://www.nike.com/running/vaporfly)\\n  - [Nike ZoomX](https://www.nike.com/zoomx)\\n  - [Space Hippie](https://www.nike.com/space-hippie) [...] - [Shoes](https://www.nike.com/w/mens-shoes-nik1zy7ok)\\n  - [All Shoes](https://www.nike.com/w/mens-shoes-nik1zy7ok)\\n  - [Basketball](https://www.nike.com/w/mens-basketball-shoes-3glsmznik1zy7ok)\\n  - [Lifestyle](https://www.nike.com/w/mens-lifestyle-shoes-13jrmznik1zy7ok)\\n  - [Jordan](https://www.nike.com/w/mens-jordan-shoes-37eefznik1zy7ok)\\n  - [Retro Running](https://www.nike.com/w/mens-retro-running-shoes-8kemkznik1zy7ok)', 'score': 0.80070794}, {'title': 'Mens Shoes. Nike.com', 'url': 'https://www.nike.com/w/mens-shoes-7cmroz8d752znik1zy7ok', 'content': \"Mens Shoes ; Nike Air VaporMax 2023 Flyknit · Nike Air VaporMax 2023 Flyknit Men's Shoes · $220 ; Nike Pegasus Plus · Nike Pegasus Plus Men's Road Running Shoes.\", 'score': 0.7515939}]\n"
     ]
    },
    {
     "data": {
      "text/plain": [
       "{'messages': ['Nike Shoe for Men',\n",
       "  'Walmart',\n",
       "  \"I don't know. The retrieved context describes FUBU Men's Knight Basketball High-Top Shoes, not Nike shoes. Final price for the FUBU shoes is $26.\",\n",
       "  'Search',\n",
       "  [{'title': 'Mens Lifestyle Shoes. Nike.com',\n",
       "    'url': 'https://www.nike.com/w/mens-lifestyle-shoes-13jrmznik1zy7ok',\n",
       "    'content': \"- [Nike Air](https://www.nike.com/air)\\n  - [Nike Air Force 1](https://www.nike.com/air-force-1)\\n  - [Nike Air Max](https://www.nike.com/air-max)\\n  - [Nike FlyEase](https://www.nike.com/flyease)\\n  - [Nike Flyknit](https://www.nike.com/flyknit)\\n  - [Nike Free](https://www.nike.com/free)\\n  - [Nike React](https://www.nike.com/react)\\n  - [Nike Vaporfly](https://www.nike.com/running/vaporfly)\\n  - [Nike ZoomX](https://www.nike.com/zoomx)\\n  - [Space Hippie](https://www.nike.com/space-hippie) [...] [Nike P-6000](https://www.nike.com/t/p-6000-mens-shoes-XkgpKW/IH0246-320)[![Nike P-6000 Men's Shoes](https://static.nike.com/a/images/c_limit,w_592,f_auto/t_product_v1/159f5244-d4f3-469d-9dad-6d5e6ea401e5/NIKE+P-6000.png)![Nike P-6000 Men's Shoes]()](https://www.nike.com/t/p-6000-mens-shoes-XkgpKW/IH0246-320)\\n\\nNike P-6000\\n\\nMen's Shoes\\n\\n9 Colors\\n\\n$125 [...] - [Men's Shoes $100 & Under](https://www.nike.com/w/mens-100-and-under-shoes-3s37kznik1zy7ok)\\n- [White Shoes](https://www.nike.com/w/white-shoes-4g797zy7ok)\\n- [Men's Road Running Shoes](https://www.nike.com/w/mens-road-running-shoes-37v7jz8kwewznik1zy7ok)\\n- [Shoes $100 & Under](https://www.nike.com/w/100-and-under-shoes-3s37kzy7ok)\\n- [Men's Golf High Top Shoes](https://www.nike.com/w/mens-golf-high-top-shoes-23q9wz6lqy0znik1zy7ok)\",\n",
       "    'score': 0.8282873},\n",
       "   {'title': \"Men's Shoes & Sneakers. Nike.com\",\n",
       "    'url': 'https://www.nike.com/w/mens-shoes-nik1zy7ok',\n",
       "    'content': '[Air Max](https://www.nike.com/w/mens-air-max-shoes-a6d8hznik1zy7ok)[Alpha Huarache](https://www.nike.com/w/mens-alpha-huarache-shoes-b0w8uznik1zy7ok)[Blazer](https://www.nike.com/w/mens-blazer-shoes-9gw3aznik1zy7ok)[Cortez](https://www.nike.com/w/mens-cortez-shoes-byfxznik1zy7ok)[Internationalist](https://www.nike.com/w/mens-internationalist-shoes-asnp1znik1zy7ok)Nike Alphafly[Nike Vaporfly](https://www.nike.com/w/mens-nike-vaporfly-shoes-5mvs0znik1zy7ok)Nike Zoom [...] - [Nike Air](https://www.nike.com/air)\\n  - [Nike Air Force 1](https://www.nike.com/air-force-1)\\n  - [Nike Air Max](https://www.nike.com/air-max)\\n  - [Nike FlyEase](https://www.nike.com/flyease)\\n  - [Nike Flyknit](https://www.nike.com/flyknit)\\n  - [Nike Free](https://www.nike.com/free)\\n  - [Nike React](https://www.nike.com/react)\\n  - [Nike Vaporfly](https://www.nike.com/running/vaporfly)\\n  - [Nike ZoomX](https://www.nike.com/zoomx)\\n  - [Space Hippie](https://www.nike.com/space-hippie) [...] - Less\\n\\nCollections\\n\\n(0)\\n\\n[Air Force 1](https://www.nike.com/w/mens-air-force-1-shoes-5sj3yznik1zy7ok)[Nike Pegasus](https://www.nike.com/w/mens-pegasus-shoes-8nexhznik1zy7ok)Nike Motiva[Foamposite](https://www.nike.com/w/mens-foamposite-shoes-5j7daznik1zy7ok)\\n\\n+ More',\n",
       "    'score': 0.82048416},\n",
       "   {'title': 'Mens Sale Shoes. Nike.com',\n",
       "    'url': 'https://www.nike.com/w/mens-sale-shoes-3yaepznik1zy7ok',\n",
       "    'content': '*   [Nike Air](https://www.nike.com/air)\\n    *   [Nike Air Force 1](https://www.nike.com/air-force-1)\\n    *   [Nike Air Max](https://www.nike.com/air-max)\\n    *   [Nike FlyEase](https://www.nike.com/flyease)\\n    *   [Nike Flyknit](https://www.nike.com/flyknit)\\n    *   [Nike Free](https://www.nike.com/free)\\n    *   [Nike React](https://www.nike.com/react)\\n    *   [Nike Vaporfly](https://www.nike.com/running/vaporfly)\\n    *   [Nike ZoomX](https://www.nike.com/zoomx) [...] - Less\\n\\nCollections\\n\\n(0)\\n\\nAir Force 1 Nike Pegasus Nike Motiva[Air Max](https://www.nike.com/w/mens-sale-air-max-shoes-3yaepza6d8hznik1zy7ok)\\n\\n+ More\\n\\nBlazer Cortez Metcon Nike Dunk Nike Vomero Jordan Editions\\n\\n- Less\\n\\nShoe Height\\n\\n(0)\\n\\nLow Top Mid Top High Top\\n\\nClosure Type\\n\\n(0)\\n\\nSlip On Strap Zipper Toggle\\n\\nWidth\\n\\n(0)\\n\\nRegular Wide Extra Wide [...] *   [Shoes](https://www.nike.com/w/mens-shoes-nik1zy7ok)\\n    *   [All Shoes](https://www.nike.com/w/mens-shoes-nik1zy7ok)\\n    *   [Basketball](https://www.nike.com/w/mens-basketball-shoes-3glsmznik1zy7ok)\\n    *   [Lifestyle](https://www.nike.com/w/mens-lifestyle-shoes-13jrmznik1zy7ok)\\n    *   [Jordan](https://www.nike.com/w/mens-jordan-shoes-37eefznik1zy7ok)\\n    *   [Retro Running](https://www.nike.com/w/mens-retro-running-shoes-8kemkznik1zy7ok)',\n",
       "    'score': 0.8055255},\n",
       "   {'title': 'Mens Shoes $100 and Under - Nike',\n",
       "    'url': 'https://www.nike.com/w/mens-under-100-shoes-av8b2znik1zy7ok',\n",
       "    'content': '- [Nike Air](https://www.nike.com/air)\\n  - [Nike Air Force 1](https://www.nike.com/air-force-1)\\n  - [Nike Air Max](https://www.nike.com/air-max)\\n  - [Nike FlyEase](https://www.nike.com/flyease)\\n  - [Nike Flyknit](https://www.nike.com/flyknit)\\n  - [Nike Free](https://www.nike.com/free)\\n  - [Nike React](https://www.nike.com/react)\\n  - [Nike Vaporfly](https://www.nike.com/running/vaporfly)\\n  - [Nike ZoomX](https://www.nike.com/zoomx)\\n  - [Space Hippie](https://www.nike.com/space-hippie) [...] - [Shoes](https://www.nike.com/w/mens-shoes-nik1zy7ok)\\n  - [All Shoes](https://www.nike.com/w/mens-shoes-nik1zy7ok)\\n  - [Basketball](https://www.nike.com/w/mens-basketball-shoes-3glsmznik1zy7ok)\\n  - [Lifestyle](https://www.nike.com/w/mens-lifestyle-shoes-13jrmznik1zy7ok)\\n  - [Jordan](https://www.nike.com/w/mens-jordan-shoes-37eefznik1zy7ok)\\n  - [Retro Running](https://www.nike.com/w/mens-retro-running-shoes-8kemkznik1zy7ok)',\n",
       "    'score': 0.80070794},\n",
       "   {'title': 'Mens Shoes. Nike.com',\n",
       "    'url': 'https://www.nike.com/w/mens-shoes-7cmroz8d752znik1zy7ok',\n",
       "    'content': \"Mens Shoes ; Nike Air VaporMax 2023 Flyknit · Nike Air VaporMax 2023 Flyknit Men's Shoes · $220 ; Nike Pegasus Plus · Nike Pegasus Plus Men's Road Running Shoes.\",\n",
       "    'score': 0.7515939}]],\n",
       " 'validation': [True, False, True]}"
      ]
     },
     "execution_count": 313,
     "metadata": {},
     "output_type": "execute_result"
    }
   ],
   "source": [
    "app.invoke({\"messages\": [\"Nike Shoe for Men\"], \"validation\": [True]})"
   ]
  },
  {
   "cell_type": "code",
   "execution_count": null,
   "id": "0d937fae",
   "metadata": {},
   "outputs": [],
   "source": []
  },
  {
   "cell_type": "code",
   "execution_count": null,
   "id": "820e2ff0",
   "metadata": {},
   "outputs": [],
   "source": []
  }
 ],
 "metadata": {
  "kernelspec": {
   "display_name": "Python 3",
   "language": "python",
   "name": "python3"
  },
  "language_info": {
   "codemirror_mode": {
    "name": "ipython",
    "version": 3
   },
   "file_extension": ".py",
   "mimetype": "text/x-python",
   "name": "python",
   "nbconvert_exporter": "python",
   "pygments_lexer": "ipython3",
   "version": "3.13.0"
  }
 },
 "nbformat": 4,
 "nbformat_minor": 5
}
