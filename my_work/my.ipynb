{
 "cells": [
  {
   "cell_type": "code",
   "execution_count": 2,
   "id": "746f3824",
   "metadata": {},
   "outputs": [],
   "source": [
    "from dotenv import load_dotenv\n",
    "import os\n",
    "\n",
    "load_dotenv()\n",
    "\n",
    "os.environ[\"OPENAI_API_KEY\"] = os.getenv(\"OPENAI_API_KEY\")\n",
    "os.environ[\"LANGCHAIN_API_KEY\"] = os.getenv(\"LANGCHAIN_API_KEY\")\n",
    "os.environ[\"GROQ_API_KEY\"] = os.getenv(\"GROQ_API_KEY\")\n",
    "\n",
    "#Langsmith Tracking And Tracing\n",
    "os.environ[\"LANGCHAIN_PROJECT\"] = os.getenv(\"LANGCHAIN_PROJECT\")\n",
    "os.environ[\"LANGCHAIN_TRACING_V2\"] = \"true\"\n",
    "os.environ[\"TAVILY_API_KEY\"]=os.getenv(\"TAVILY_API_KEY\")\n",
    "os.environ['HF_TOKEN']=os.getenv(\"HF_TOKEN\")"
   ]
  },
  {
   "cell_type": "code",
   "execution_count": 3,
   "id": "2eca8fb7",
   "metadata": {},
   "outputs": [
    {
     "name": "stderr",
     "output_type": "stream",
     "text": [
      "/Users/tusharshinde/code/my/AI/agentic_n_gen_ai/venv/lib/python3.13/site-packages/langchain_groq/chat_models.py:364: UserWarning: WARNING! top_p is not default parameter.\n",
      "                    top_p was transferred to model_kwargs.\n",
      "                    Please confirm that top_p is what you intended.\n",
      "  warnings.warn(\n"
     ]
    },
    {
     "data": {
      "text/plain": [
       "AIMessage(content='\\n<think>\\nOkay, the user is asking, \"What is the capital of France?\" Let me think about how to approach this.\\n\\nFirst, I need to recall the basic geography facts. France is a country in Western Europe, and I remember that its capital is a major city. The most famous city in France that comes to mind is Paris. But wait, I should make sure I\\'m not confusing it with another country. Let me verify.\\n\\nI know that Paris is often referred to as the \"City of Light\" and is known for landmarks like the Eiffel Tower and the Louvre Museum. That\\'s definitely in France. But maybe there\\'s a chance of mixing it up with another capital? Let me think of other major cities in France, like Marseille, Lyon, or Bordeaux. But none of those are capitals. The capital is indeed Paris.\\n\\nWait, could there be any exceptions or recent changes? I don\\'t think so. The capital of France has been Paris for a long time. Let me check if there\\'s any historical context where the capital might have been different. For example, during certain historical periods, like the German occupation in WWII, the government was in Vichy, but that\\'s not the capital city. The official capital remained Paris even then.\\n\\nAlso, considering the structure of France as a country, the government institutions, including the presidency and the National Assembly, are all based in Paris. So that\\'s another point confirming it.\\n\\nAnother angle: sometimes people confuse the capital of different countries. For instance, someone might mix up France with neighboring countries like Belgium (Brussels), Spain (Madrid), or Italy (Rome). But France\\'s capital is definitely Paris.\\n\\nI can also think of educational resources. In school, when learning about European capitals, France is paired with Paris. Textbooks and reliable sources all state that Paris is the capital. There\\'s no ambiguity here.\\n\\nIs there any possibility of a trick question? The user might be testing if I know some obscure historical fact, but unless specified, the answer should be the current capital. Since there\\'s no recent news about France changing its capital, which is highly unlikely, I can be confident.\\n\\nSo, putting it all together: The capital of France is Paris. I can\\'t think of any reason to doubt this. The answer is straightforward.\\n</think>\\n\\nThe capital of France is **Paris**. It is the country\\'s political, cultural, and economic center, renowned worldwide for landmarks such as the Eiffel Tower, the Louvre Museum, and its historical', additional_kwargs={}, response_metadata={'token_usage': {'completion_tokens': 512, 'prompt_tokens': 17, 'total_tokens': 529, 'completion_time': 1.253847991, 'prompt_time': 0.003120629, 'queue_time': 0.015894885, 'total_time': 1.2569686199999999}, 'model_name': 'qwen-qwq-32b', 'system_fingerprint': 'fp_98b01f25b2', 'finish_reason': 'length', 'logprobs': None}, id='run--dac35c39-7662-4816-99e7-d37592732e25-0', usage_metadata={'input_tokens': 17, 'output_tokens': 512, 'total_tokens': 529})"
      ]
     },
     "execution_count": 3,
     "metadata": {},
     "output_type": "execute_result"
    }
   ],
   "source": [
    "from langchain_groq import ChatGroq\n",
    "\n",
    "model = ChatGroq(\n",
    "    model=\"qwen-qwq-32b\",\n",
    "    max_tokens=512,\n",
    "    temperature=0.1,\n",
    "    top_p=0.95)\n",
    "\n",
    "model.invoke(\"What is the capital of France?\")"
   ]
  },
  {
   "cell_type": "code",
   "execution_count": 4,
   "id": "d7656a8b",
   "metadata": {},
   "outputs": [],
   "source": [
    "from langchain_core.prompts import PromptTemplate\n",
    "\n",
    "prompt = PromptTemplate(\n",
    "    input_variables=[\"question\"],\n",
    "    template=\"Answer the question: {question} in a single sentence.\"\n",
    ")"
   ]
  },
  {
   "cell_type": "code",
   "execution_count": 5,
   "id": "e1a6a526",
   "metadata": {},
   "outputs": [],
   "source": [
    "chain = prompt | model"
   ]
  },
  {
   "cell_type": "code",
   "execution_count": 6,
   "id": "570f3451",
   "metadata": {},
   "outputs": [
    {
     "name": "stdout",
     "output_type": "stream",
     "text": [
      "\n",
      "<think>\n",
      "Okay, the user is asking for the capital of France. Let me think. I remember that Paris is the capital. But wait, I should make sure there hasn't been any recent changes. No, capitals don't change like that. Also, sometimes people might confuse it with Lyon or Marseille, but no, Paris is definitely the capital. The question specifies a single sentence, so I need to be concise. Just state the answer clearly without any extra information. Let me check a reliable source in my mind. Yes, all sources confirm Paris. Alright, the answer is Paris.\n",
      "</think>\n",
      "\n",
      "The capital of France is Paris.\n"
     ]
    }
   ],
   "source": [
    "resp = chain.invoke({\"question\": \"What is the capital of France?\"})\n",
    "print(resp.content)"
   ]
  },
  {
   "cell_type": "code",
   "execution_count": 7,
   "id": "a8869da6",
   "metadata": {},
   "outputs": [
    {
     "data": {
      "text/plain": [
       "'Return a JSON object.'"
      ]
     },
     "execution_count": 7,
     "metadata": {},
     "output_type": "execute_result"
    }
   ],
   "source": [
    "from langchain_core.output_parsers import JsonOutputParser\n",
    "\n",
    "output_parser = JsonOutputParser()\n",
    "format_instructions = output_parser.get_format_instructions()\n",
    "format_instructions"
   ]
  },
  {
   "cell_type": "code",
   "execution_count": 8,
   "id": "6bae2820",
   "metadata": {},
   "outputs": [],
   "source": [
    "from langchain_core.prompts import PromptTemplate\n",
    "\n",
    "prompt = PromptTemplate(\n",
    "    input_variables=[\"question\"],\n",
    "    template=\"Answer the question: {question} in a single sentence.\"\n",
    "    \" Return the answer in JSON format: {format_instructions}\",\n",
    "    partial_variables={\"format_instructions\": output_parser.get_format_instructions()},\n",
    ")"
   ]
  },
  {
   "cell_type": "code",
   "execution_count": 9,
   "id": "6f7790f9",
   "metadata": {},
   "outputs": [
    {
     "name": "stdout",
     "output_type": "stream",
     "text": [
      "{'capital_of_france': 'Paris'}\n"
     ]
    }
   ],
   "source": [
    "model = ChatGroq(model=\"gemma2-9b-it\")\n",
    "\n",
    "chain = prompt | model | output_parser\n",
    "response = chain.invoke({\"question\":\"What is the captial of France?\"})\n",
    "print(response)"
   ]
  },
  {
   "cell_type": "code",
   "execution_count": 10,
   "id": "c9716372",
   "metadata": {},
   "outputs": [
    {
     "data": {
      "text/plain": [
       "ChatPromptTemplate(input_variables=['format_instructions', 'question'], input_types={}, partial_variables={}, messages=[SystemMessagePromptTemplate(prompt=PromptTemplate(input_variables=['format_instructions'], input_types={}, partial_variables={}, template='You are a helpful assistant. Answer the question in a {format_instructions} format.'), additional_kwargs={}), HumanMessagePromptTemplate(prompt=PromptTemplate(input_variables=['question'], input_types={}, partial_variables={}, template='{question}'), additional_kwargs={})])"
      ]
     },
     "execution_count": 10,
     "metadata": {},
     "output_type": "execute_result"
    }
   ],
   "source": [
    "from langchain_core.prompts import ChatPromptTemplate\n",
    "\n",
    "chat_prompt = ChatPromptTemplate.from_messages(\n",
    "    [\n",
    "        (\"system\", \"You are a helpful assistant. Answer the question in a {format_instructions} format.\"),\n",
    "        (\"user\", \"{question}\"),\n",
    "    ]\n",
    ")\n",
    "\n",
    "chat_prompt\n"
   ]
  },
  {
   "cell_type": "code",
   "execution_count": 11,
   "id": "0a0dab21",
   "metadata": {},
   "outputs": [
    {
     "name": "stdout",
     "output_type": "stream",
     "text": [
      "{'capital_of_france': 'Paris'}\n"
     ]
    }
   ],
   "source": [
    "chain = chat_prompt | model | output_parser\n",
    "resp = chain.invoke({\"question\": \"What is the capital of France?\", \"format_instructions\": format_instructions})\n",
    "print(resp)"
   ]
  },
  {
   "cell_type": "code",
   "execution_count": 12,
   "id": "56c550b1",
   "metadata": {},
   "outputs": [],
   "source": [
    "from langchain_community.document_loaders import TextLoader\n",
    "loader = TextLoader(\"speech.txt\")\n",
    "documents = loader.load()"
   ]
  },
  {
   "cell_type": "code",
   "execution_count": 13,
   "id": "f54667a9",
   "metadata": {},
   "outputs": [],
   "source": [
    "from langchain_text_splitters import RecursiveCharacterTextSplitter\n",
    "text_splitter = RecursiveCharacterTextSplitter(chunk_size=500, chunk_overlap=100)\n",
    "splitt_docs = text_splitter.split_documents(documents)"
   ]
  },
  {
   "cell_type": "code",
   "execution_count": 14,
   "id": "8d27a686",
   "metadata": {},
   "outputs": [
    {
     "name": "stderr",
     "output_type": "stream",
     "text": [
      "/Users/tusharshinde/code/my/AI/agentic_n_gen_ai/venv/lib/python3.13/site-packages/tqdm/auto.py:21: TqdmWarning: IProgress not found. Please update jupyter and ipywidgets. See https://ipywidgets.readthedocs.io/en/stable/user_install.html\n",
      "  from .autonotebook import tqdm as notebook_tqdm\n"
     ]
    }
   ],
   "source": [
    "from langchain_huggingface import HuggingFaceEmbeddings\n",
    "\n",
    "embeddings = HuggingFaceEmbeddings(model_name=\"all-MiniLM-L6-v2\")\n",
    "embedded_docs = embeddings.embed_documents([doc.page_content for doc in splitt_docs])\n"
   ]
  },
  {
   "cell_type": "code",
   "execution_count": 15,
   "id": "c1ec9795",
   "metadata": {},
   "outputs": [
    {
     "data": {
      "text/plain": [
       "['b504aa9b-6e0d-4d49-9446-cff196820976',\n",
       " '7c9069bc-7406-47dc-bd26-37008fe0fb71',\n",
       " '7b1369fb-619b-4cf2-a512-e79d27ae9c37',\n",
       " 'bc0fe1a7-fa24-40ba-8d9f-7c0172a7287c',\n",
       " 'c371370d-bc44-4b12-afc6-9018631bdcf1',\n",
       " '6203b2b0-a9da-4cba-8089-dc61cd34676b',\n",
       " 'b6337eb9-87d6-4372-8df1-248ae56bb072',\n",
       " '4b81b85c-a725-4712-87a3-6d3976bf995f',\n",
       " '38d524d9-7e57-4a58-b4d5-bc5b23aca97d',\n",
       " '5ab466ab-4f1b-485c-abbf-3aacb75753e8']"
      ]
     },
     "execution_count": 15,
     "metadata": {},
     "output_type": "execute_result"
    }
   ],
   "source": [
    "from langchain_community.docstore.in_memory import InMemoryDocstore\n",
    "import faiss\n",
    "from langchain_community.vectorstores import FAISS\n",
    "\n",
    "index=faiss.IndexFlatL2(384)\n",
    "\n",
    "vector_store = FAISS(\n",
    "    embedding_function=embeddings,\n",
    "    index=index,\n",
    "    docstore=InMemoryDocstore(),\n",
    "    index_to_docstore_id={},\n",
    ")\n",
    "\n",
    "vector_store.add_documents(splitt_docs)"
   ]
  },
  {
   "cell_type": "code",
   "execution_count": 16,
   "id": "46a5e020",
   "metadata": {},
   "outputs": [
    {
     "data": {
      "text/plain": [
       "[Document(id='b504aa9b-6e0d-4d49-9446-cff196820976', metadata={'source': 'speech.txt'}, page_content='The world must be made safe for democracy. Its peace must be planted upon the tested foundations of political liberty. We have no selfish ends to serve. We desire no conquest, no dominion. We seek no indemnities for ourselves, no material compensation for the sacrifices we shall freely make. We are but one of the champions of the rights of mankind. We shall be satisfied when those rights have been made as secure as the faith and the freedom of nations can make them.')]"
      ]
     },
     "execution_count": 16,
     "metadata": {},
     "output_type": "execute_result"
    }
   ],
   "source": [
    "vector_store.similarity_search(\"What is democracy?\", k=1)"
   ]
  },
  {
   "cell_type": "code",
   "execution_count": 17,
   "id": "0aad1622",
   "metadata": {},
   "outputs": [
    {
     "data": {
      "text/plain": [
       "[Document(id='b504aa9b-6e0d-4d49-9446-cff196820976', metadata={'source': 'speech.txt'}, page_content='The world must be made safe for democracy. Its peace must be planted upon the tested foundations of political liberty. We have no selfish ends to serve. We desire no conquest, no dominion. We seek no indemnities for ourselves, no material compensation for the sacrifices we shall freely make. We are but one of the champions of the rights of mankind. We shall be satisfied when those rights have been made as secure as the faith and the freedom of nations can make them.')]"
      ]
     },
     "execution_count": 17,
     "metadata": {},
     "output_type": "execute_result"
    }
   ],
   "source": [
    "vector_store.save_local(\"faiss_index\")\n",
    "\n",
    "new_vector_store = FAISS.load_local(\"faiss_index\", embeddings, allow_dangerous_deserialization=True)\n",
    "\n",
    "new_vector_store.similarity_search(\"What is democracy?\", k=1)"
   ]
  },
  {
   "cell_type": "code",
   "execution_count": 18,
   "id": "a76fe387",
   "metadata": {},
   "outputs": [],
   "source": [
    "retriever = vector_store.as_retriever(search_type=\"similarity\", search_kwargs={\"k\": 1})"
   ]
  },
  {
   "cell_type": "code",
   "execution_count": 19,
   "id": "0a3adc23",
   "metadata": {},
   "outputs": [
    {
     "data": {
      "text/plain": [
       "[Document(id='b504aa9b-6e0d-4d49-9446-cff196820976', metadata={'source': 'speech.txt'}, page_content='The world must be made safe for democracy. Its peace must be planted upon the tested foundations of political liberty. We have no selfish ends to serve. We desire no conquest, no dominion. We seek no indemnities for ourselves, no material compensation for the sacrifices we shall freely make. We are but one of the champions of the rights of mankind. We shall be satisfied when those rights have been made as secure as the faith and the freedom of nations can make them.')]"
      ]
     },
     "execution_count": 19,
     "metadata": {},
     "output_type": "execute_result"
    }
   ],
   "source": [
    "retriever.invoke(\"What is democracy?\")"
   ]
  },
  {
   "cell_type": "code",
   "execution_count": 41,
   "id": "93ecb942",
   "metadata": {},
   "outputs": [],
   "source": [
    "from langchain.tools import tool\n",
    "\n",
    "@tool\n",
    "def weather(city: str)->str:\n",
    "    \"\"\"This tool provides weather of the cities\"\"\"\n",
    "    if 'delhi' == city.lower():\n",
    "        return \"weather in delhi is sunny and 45 degrees\"\n",
    "    return f\"weather in {city} is rainy and 22 degrees\""
   ]
  },
  {
   "cell_type": "code",
   "execution_count": 21,
   "id": "50c2d64a",
   "metadata": {},
   "outputs": [],
   "source": [
    "from langchain_groq import ChatGroq\n",
    "llm = ChatGroq(\n",
    "    model_name=\"deepseek-r1-distill-llama-70b\",\n",
    "    temperature=0\n",
    ")\n",
    "response=llm.invoke(\"what is length of wall of china?\")"
   ]
  },
  {
   "cell_type": "code",
   "execution_count": 22,
   "id": "a12b083a",
   "metadata": {},
   "outputs": [],
   "source": [
    "tools = [weather]\n",
    "llm_with_tools = llm.bind_tools(tools)"
   ]
  },
  {
   "cell_type": "code",
   "execution_count": 23,
   "id": "998c532a",
   "metadata": {},
   "outputs": [],
   "source": [
    "resp = llm_with_tools.invoke(\"what is weather in delhi\")"
   ]
  },
  {
   "cell_type": "code",
   "execution_count": 24,
   "id": "32b07952",
   "metadata": {},
   "outputs": [
    {
     "data": {
      "text/plain": [
       "[{'name': 'weather',\n",
       "  'args': {'city': 'Delhi'},\n",
       "  'id': 'v2sfce60y',\n",
       "  'type': 'tool_call'}]"
      ]
     },
     "execution_count": 24,
     "metadata": {},
     "output_type": "execute_result"
    }
   ],
   "source": [
    "resp.tool_calls"
   ]
  },
  {
   "cell_type": "code",
   "execution_count": 25,
   "id": "1dd23e49",
   "metadata": {},
   "outputs": [],
   "source": [
    "from langgraph.graph import MessagesState\n",
    "\n",
    "def call_llm(state: MessagesState):\n",
    "    question = state['messages']\n",
    "    resp = llm_with_tools.invoke(question)\n",
    "    return {\"messages\": [resp]}"
   ]
  },
  {
   "cell_type": "code",
   "execution_count": 26,
   "id": "88bf963c",
   "metadata": {},
   "outputs": [
    {
     "data": {
      "text/plain": [
       "{'messages': [AIMessage(content=\"I'm just a virtual assistant, so I don't have feelings, but I'm here and ready to help you! How can I assist you today?\", additional_kwargs={}, response_metadata={'token_usage': {'completion_tokens': 109, 'prompt_tokens': 127, 'total_tokens': 236, 'completion_time': 0.54881345, 'prompt_time': 0.008236187, 'queue_time': 0.22104506699999998, 'total_time': 0.557049637}, 'model_name': 'deepseek-r1-distill-llama-70b', 'system_fingerprint': 'fp_1bbe7845ec', 'finish_reason': 'stop', 'logprobs': None}, id='run--c70b6cfc-c072-47a3-b130-a10c9799db96-0', usage_metadata={'input_tokens': 127, 'output_tokens': 109, 'total_tokens': 236})]}"
      ]
     },
     "execution_count": 26,
     "metadata": {},
     "output_type": "execute_result"
    }
   ],
   "source": [
    "call_llm({\"messages\": \"how r u?\"})"
   ]
  },
  {
   "cell_type": "code",
   "execution_count": 27,
   "id": "969aa80f",
   "metadata": {},
   "outputs": [],
   "source": [
    "from langgraph.prebuilt import ToolNode\n",
    "tool = ToolNode(tools)"
   ]
  },
  {
   "cell_type": "code",
   "execution_count": 28,
   "id": "cec3af42",
   "metadata": {},
   "outputs": [],
   "source": [
    "from langgraph.graph import StateGraph, END, START\n",
    "\n",
    "def router(state:MessagesState):\n",
    "    last_message = state['messages'][-1]\n",
    "    if last_message.tool_calls:\n",
    "        return \"tools\"\n",
    "    return END"
   ]
  },
  {
   "cell_type": "code",
   "execution_count": 29,
   "id": "b86d4d0a",
   "metadata": {},
   "outputs": [],
   "source": [
    "from langgraph.checkpoint.memory import MemorySaver\n",
    "memory = MemorySaver()\n",
    "\n",
    "graph = StateGraph(MessagesState)\n",
    "\n",
    "graph.add_node(\"call_my_llm\", call_llm)\n",
    "graph.add_node(\"mytools\", tool)\n",
    "\n",
    "graph.add_edge(START, \"call_my_llm\")\n",
    "graph.add_conditional_edges(\"call_my_llm\", \n",
    "                          router, {\n",
    "                              \"tools\": \"mytools\",\n",
    "                              END:END\n",
    "                          })\n",
    "\n",
    "graph.add_edge(\"mytools\", \"call_my_llm\")\n",
    "\n",
    "app = graph.compile(checkpointer=memory)"
   ]
  },
  {
   "cell_type": "code",
   "execution_count": 30,
   "id": "bf6f3f30",
   "metadata": {},
   "outputs": [
    {
     "data": {
      "image/png": "[encoded data removed]",
      "text/plain": [
       "<IPython.core.display.Image object>"
      ]
     },
     "metadata": {},
     "output_type": "display_data"
    }
   ],
   "source": [
    "from IPython.display import display, Image\n",
    "\n",
    "display(Image(app.get_graph().draw_mermaid_png()))"
   ]
  },
  {
   "cell_type": "code",
   "execution_count": 31,
   "id": "6b0fce8d",
   "metadata": {},
   "outputs": [],
   "source": [
    "config = {\"configurable\": {\"thread_id\": \"1\"}}"
   ]
  },
  {
   "cell_type": "code",
   "execution_count": 32,
   "id": "d5774b93",
   "metadata": {},
   "outputs": [
    {
     "name": "stdout",
     "output_type": "stream",
     "text": [
      "call_my_llm\n",
      "--------------\n",
      "{'messages': [AIMessage(content='\\nAlright, the user greeted me with \"How are you.\" I need to respond appropriately. Since I\\'m an AI, I don\\'t have feelings, but I should acknowledge their greeting.\\n\\nI\\'ll start by thanking them for asking. Then, I\\'ll mention that I don\\'t have feelings but am here and ready to help. I should keep it friendly and open-ended to encourage them to ask for assistance.\\n\\nI should avoid any markdown and keep the response natural. Let\\'s make sure it\\'s clear that I\\'m here to help with whatever they need.\\n</think>\\n\\nI\\'m just a computer program, so I don\\'t have feelings, but I\\'m here and ready to help you with whatever you need! How can I assist you today?', additional_kwargs={}, response_metadata={'token_usage': {'completion_tokens': 149, 'prompt_tokens': 126, 'total_tokens': 275, 'completion_time': 0.716740566, 'prompt_time': 0.011320165, 'queue_time': 0.22134315000000002, 'total_time': 0.728060731}, 'model_name': 'deepseek-r1-distill-llama-70b', 'system_fingerprint': 'fp_1bbe7845ec', 'finish_reason': 'stop', 'logprobs': None}, id='run--9cce73e6-a518-429a-90df-c5401c4b131b-0', usage_metadata={'input_tokens': 126, 'output_tokens': 149, 'total_tokens': 275})]}\n",
      "\n",
      "\n"
     ]
    }
   ],
   "source": [
    "# resp = app.invoke({\"messages\": [\"How are you\"]})\n",
    "\n",
    "for output in app.stream({\"messages\": [\"How are you\"]}, config=config):\n",
    "    for key, val in output.items():\n",
    "        print(key)\n",
    "        print('--------------')\n",
    "        print(val)\n",
    "        print('\\n')"
   ]
  },
  {
   "cell_type": "code",
   "execution_count": 33,
   "id": "24aada08",
   "metadata": {},
   "outputs": [
    {
     "name": "stdout",
     "output_type": "stream",
     "text": [
      "call_my_llm\n",
      "--------------\n",
      "{'messages': [AIMessage(content='', additional_kwargs={'tool_calls': [{'id': 'h53y2rwe4', 'function': {'arguments': '{\"city\":\"Delhi\"}', 'name': 'weather'}, 'type': 'function'}]}, response_metadata={'token_usage': {'completion_tokens': 129, 'prompt_tokens': 171, 'total_tokens': 300, 'completion_time': 0.695360289, 'prompt_time': 0.018553906, 'queue_time': 0.222117699, 'total_time': 0.713914195}, 'model_name': 'deepseek-r1-distill-llama-70b', 'system_fingerprint': 'fp_1bbe7845ec', 'finish_reason': 'tool_calls', 'logprobs': None}, id='run--198cccdb-ba17-4219-8f82-5db4c7bbcc50-0', tool_calls=[{'name': 'weather', 'args': {'city': 'Delhi'}, 'id': 'h53y2rwe4', 'type': 'tool_call'}], usage_metadata={'input_tokens': 171, 'output_tokens': 129, 'total_tokens': 300})]}\n",
      "\n",
      "\n",
      "mytools\n",
      "--------------\n",
      "{'messages': [ToolMessage(content='weather in delhi is sunny and 45 degrees', name='weather', id='ba7a7a76-dc96-41f9-8df9-a6f9cee7c5f8', tool_call_id='h53y2rwe4')]}\n",
      "\n",
      "\n",
      "call_my_llm\n",
      "--------------\n",
      "{'messages': [AIMessage(content='The weather in Delhi is sunny and 45 degrees.', additional_kwargs={}, response_metadata={'token_usage': {'completion_tokens': 115, 'prompt_tokens': 231, 'total_tokens': 346, 'completion_time': 0.724315161, 'prompt_time': 0.016966798, 'queue_time': 0.221105848, 'total_time': 0.741281959}, 'model_name': 'deepseek-r1-distill-llama-70b', 'system_fingerprint': 'fp_1bbe7845ec', 'finish_reason': 'stop', 'logprobs': None}, id='run--ae8fe05f-6408-4966-a3ef-facb15933deb-0', usage_metadata={'input_tokens': 231, 'output_tokens': 115, 'total_tokens': 346})]}\n",
      "\n",
      "\n"
     ]
    }
   ],
   "source": [
    "# resp = app.invoke({\"messages\": [\"What is weather in Delhi?\"]})\n",
    "# resp\n",
    "\n",
    "for output in app.stream({\"messages\": [\"What is weather in Delhi?\"]}, config=config):\n",
    "    for key, val in output.items():\n",
    "        print(key)\n",
    "        print('--------------')\n",
    "        print(val)\n",
    "        print('\\n')\n"
   ]
  },
  {
   "cell_type": "code",
   "execution_count": 34,
   "id": "a7fb2e95",
   "metadata": {},
   "outputs": [
    {
     "name": "stdout",
     "output_type": "stream",
     "text": [
      "================================\u001b[1m Human Message \u001b[0m=================================\n",
      "\n",
      "What is weather in Delhi and can you suggest some hotels to stay in north Delhi?\n",
      "==================================\u001b[1m Ai Message \u001b[0m==================================\n",
      "Tool Calls:\n",
      "  weather (73agvarqc)\n",
      " Call ID: 73agvarqc\n",
      "  Args:\n",
      "    city: Delhi\n",
      "=================================\u001b[1m Tool Message \u001b[0m=================================\n",
      "Name: weather\n",
      "\n",
      "weather in delhi is sunny and 45 degrees\n",
      "==================================\u001b[1m Ai Message \u001b[0m==================================\n",
      "\n",
      "The weather in Delhi is sunny and 45 degrees. \n",
      "\n",
      "As for hotels in North Delhi, here are a few suggestions:\n",
      "1. **The Oberoi, New Delhi** - A luxurious option with excellent service.\n",
      "2. **The Leela Palace New Delhi** - Offers a blend of luxury and comfort.\n",
      "3. **The Grand New Delhi** - A modern hotel with great amenities.\n",
      "4. **JW Marriott Hotel New Delhi Aerocity** - Known for its excellent service and facilities.\n",
      "5. **Andaz Delhi - A Concept by Hyatt** - A stylish and contemporary hotel.\n",
      "\n",
      "Let me know if you'd like more details or assistance!\n"
     ]
    }
   ],
   "source": [
    "events = app.stream({\"messages\": [\"What is weather in Delhi and can you suggest some hotels to stay in north Delhi?\"]}, config=config, stream_mode=\"values\")\n",
    "for event in events:\n",
    "    event[\"messages\"][-1].pretty_print()\n",
    "    # print(event[\"messages\"][-1])\n",
    "    # print(event[\"messages\"])\n",
    "\n",
    "# resp = app.invoke({\"messages\": [\"What is weather in Delhi and can you suggest some hotels to stay in north Delhi?\"]})\n",
    "# print(resp[\"messages\"])"
   ]
  },
  {
   "cell_type": "code",
   "execution_count": 35,
   "id": "e45be061",
   "metadata": {},
   "outputs": [
    {
     "data": {
      "text/plain": [
       "{'v': 3,\n",
       " 'ts': '2025-06-26T03:00:12.272015+00:00',\n",
       " 'id': '1f05239a-d4ec-67e6-800b-8e23bbb6f9aa',\n",
       " 'channel_versions': {'__start__': '00000000000000000000000000000010.0.5423751145710171',\n",
       "  'messages': '00000000000000000000000000000013.0.4752633416822538',\n",
       "  'branch:to:call_my_llm': '00000000000000000000000000000013.0.3432796371128357',\n",
       "  'branch:to:mytools': '00000000000000000000000000000012.0.9511541941057224'},\n",
       " 'versions_seen': {'__input__': {},\n",
       "  '__start__': {'__start__': '00000000000000000000000000000009.0.8371129625232513'},\n",
       "  'call_my_llm': {'branch:to:call_my_llm': '00000000000000000000000000000012.0.019181171513335538'},\n",
       "  'mytools': {'branch:to:mytools': '00000000000000000000000000000011.0.3490439775390003'}},\n",
       " 'channel_values': {'messages': [HumanMessage(content='How are you', additional_kwargs={}, response_metadata={}, id='aaf330c9-c0c2-400d-8140-969bd2c84732'),\n",
       "   AIMessage(content='\\nAlright, the user greeted me with \"How are you.\" I need to respond appropriately. Since I\\'m an AI, I don\\'t have feelings, but I should acknowledge their greeting.\\n\\nI\\'ll start by thanking them for asking. Then, I\\'ll mention that I don\\'t have feelings but am here and ready to help. I should keep it friendly and open-ended to encourage them to ask for assistance.\\n\\nI should avoid any markdown and keep the response natural. Let\\'s make sure it\\'s clear that I\\'m here to help with whatever they need.\\n</think>\\n\\nI\\'m just a computer program, so I don\\'t have feelings, but I\\'m here and ready to help you with whatever you need! How can I assist you today?', additional_kwargs={}, response_metadata={'token_usage': {'completion_tokens': 149, 'prompt_tokens': 126, 'total_tokens': 275, 'completion_time': 0.716740566, 'prompt_time': 0.011320165, 'queue_time': 0.22134315000000002, 'total_time': 0.728060731}, 'model_name': 'deepseek-r1-distill-llama-70b', 'system_fingerprint': 'fp_1bbe7845ec', 'finish_reason': 'stop', 'logprobs': None}, id='run--9cce73e6-a518-429a-90df-c5401c4b131b-0', usage_metadata={'input_tokens': 126, 'output_tokens': 149, 'total_tokens': 275}),\n",
       "   HumanMessage(content='What is weather in Delhi?', additional_kwargs={}, response_metadata={}, id='4c087e27-7cb7-4c51-bd9e-00dd848d02bd'),\n",
       "   AIMessage(content='', additional_kwargs={'tool_calls': [{'id': 'h53y2rwe4', 'function': {'arguments': '{\"city\":\"Delhi\"}', 'name': 'weather'}, 'type': 'function'}]}, response_metadata={'token_usage': {'completion_tokens': 129, 'prompt_tokens': 171, 'total_tokens': 300, 'completion_time': 0.695360289, 'prompt_time': 0.018553906, 'queue_time': 0.222117699, 'total_time': 0.713914195}, 'model_name': 'deepseek-r1-distill-llama-70b', 'system_fingerprint': 'fp_1bbe7845ec', 'finish_reason': 'tool_calls', 'logprobs': None}, id='run--198cccdb-ba17-4219-8f82-5db4c7bbcc50-0', tool_calls=[{'name': 'weather', 'args': {'city': 'Delhi'}, 'id': 'h53y2rwe4', 'type': 'tool_call'}], usage_metadata={'input_tokens': 171, 'output_tokens': 129, 'total_tokens': 300}),\n",
       "   ToolMessage(content='weather in delhi is sunny and 45 degrees', name='weather', id='ba7a7a76-dc96-41f9-8df9-a6f9cee7c5f8', tool_call_id='h53y2rwe4'),\n",
       "   AIMessage(content='The weather in Delhi is sunny and 45 degrees.', additional_kwargs={}, response_metadata={'token_usage': {'completion_tokens': 115, 'prompt_tokens': 231, 'total_tokens': 346, 'completion_time': 0.724315161, 'prompt_time': 0.016966798, 'queue_time': 0.221105848, 'total_time': 0.741281959}, 'model_name': 'deepseek-r1-distill-llama-70b', 'system_fingerprint': 'fp_1bbe7845ec', 'finish_reason': 'stop', 'logprobs': None}, id='run--ae8fe05f-6408-4966-a3ef-facb15933deb-0', usage_metadata={'input_tokens': 231, 'output_tokens': 115, 'total_tokens': 346}),\n",
       "   HumanMessage(content='What is weather in Delhi and can you suggest some hotels to stay in north Delhi?', additional_kwargs={}, response_metadata={}, id='4e63bef2-9fb0-490f-a016-c42f826b9f34'),\n",
       "   AIMessage(content='', additional_kwargs={'tool_calls': [{'id': '73agvarqc', 'function': {'arguments': '{\"city\":\"Delhi\"}', 'name': 'weather'}, 'type': 'function'}]}, response_metadata={'token_usage': {'completion_tokens': 195, 'prompt_tokens': 262, 'total_tokens': 457, 'completion_time': 0.880437049, 'prompt_time': 0.024214558, 'queue_time': 0.230211577, 'total_time': 0.904651607}, 'model_name': 'deepseek-r1-distill-llama-70b', 'system_fingerprint': 'fp_1bbe7845ec', 'finish_reason': 'tool_calls', 'logprobs': None}, id='run--abd29074-41bd-41d4-9d91-f1eab53d245a-0', tool_calls=[{'name': 'weather', 'args': {'city': 'Delhi'}, 'id': '73agvarqc', 'type': 'tool_call'}], usage_metadata={'input_tokens': 262, 'output_tokens': 195, 'total_tokens': 457}),\n",
       "   ToolMessage(content='weather in delhi is sunny and 45 degrees', name='weather', id='c31a033a-c587-4aa1-8db2-d76abd36c44c', tool_call_id='73agvarqc'),\n",
       "   AIMessage(content=\"The weather in Delhi is sunny and 45 degrees. \\n\\nAs for hotels in North Delhi, here are a few suggestions:\\n1. **The Oberoi, New Delhi** - A luxurious option with excellent service.\\n2. **The Leela Palace New Delhi** - Offers a blend of luxury and comfort.\\n3. **The Grand New Delhi** - A modern hotel with great amenities.\\n4. **JW Marriott Hotel New Delhi Aerocity** - Known for its excellent service and facilities.\\n5. **Andaz Delhi - A Concept by Hyatt** - A stylish and contemporary hotel.\\n\\nLet me know if you'd like more details or assistance!\", additional_kwargs={}, response_metadata={'token_usage': {'completion_tokens': 244, 'prompt_tokens': 319, 'total_tokens': 563, 'completion_time': 1.05310869, 'prompt_time': 0.021287508, 'queue_time': 0.226658964, 'total_time': 1.074396198}, 'model_name': 'deepseek-r1-distill-llama-70b', 'system_fingerprint': 'fp_1bbe7845ec', 'finish_reason': 'stop', 'logprobs': None}, id='run--959fc5ca-ba97-48df-93eb-2c8ac975e770-0', usage_metadata={'input_tokens': 319, 'output_tokens': 244, 'total_tokens': 563})]},\n",
       " 'pending_sends': []}"
      ]
     },
     "execution_count": 35,
     "metadata": {},
     "output_type": "execute_result"
    }
   ],
   "source": [
    "memory.get(config)"
   ]
  },
  {
   "cell_type": "code",
   "execution_count": 36,
   "id": "6616d467",
   "metadata": {},
   "outputs": [
    {
     "name": "stdout",
     "output_type": "stream",
     "text": [
      "================================\u001b[1m Human Message \u001b[0m=================================\n",
      "\n",
      "In which city tempratur is 45 \n",
      "==================================\u001b[1m Ai Message \u001b[0m==================================\n",
      "\n",
      "The temperature in Delhi is currently 45 degrees. Let me know if you'd like more details about the weather or any other assistance!\n"
     ]
    }
   ],
   "source": [
    "events = app.stream({\"messages\": [\"In which city tempratur is 45 \"]}, config=config, stream_mode=\"values\")\n",
    "for event in events:\n",
    "    event[\"messages\"][-1].pretty_print()"
   ]
  },
  {
   "cell_type": "code",
   "execution_count": null,
   "id": "33d9a295",
   "metadata": {},
   "outputs": [],
   "source": [
    "@tool\n",
    "def multiply(a:int, b:int)->int:\n",
    "    \"\"\"This function multiply two integer argumets a * b and return multiplication result as an integer\"\"\"\n",
    "    return a * b\n",
    "\n",
    "@tool\n",
    "def add(a:int, b:int)->int:\n",
    "    \"\"\"This function adds two integer argumets a * b and return addition result as an integer\"\"\"\n",
    "    return a + b\n",
    "\n",
    "@tool\n",
    "def devide(a:int, b:int)->float:\n",
    "    \"\"\"This function devides two integer argumets a / b and return division as float\"\"\"\n",
    "    return a / b\n"
   ]
  },
  {
   "cell_type": "code",
   "execution_count": 107,
   "id": "71efc2cb",
   "metadata": {},
   "outputs": [],
   "source": [
    "from yfinance import Tickers\n",
    "\n",
    "@tool\n",
    "def get_stock_price(ticker: str):\n",
    "    \"\"\"Return stock price of ticker\"\"\"\n",
    "    tickers = Tickers(ticker)\n",
    "    return tickers.tickers[ticker].info.get(\"previousClose\")"
   ]
  },
  {
   "cell_type": "code",
   "execution_count": 104,
   "id": "dd276115",
   "metadata": {},
   "outputs": [
    {
     "data": {
      "text/plain": [
       "340.47"
      ]
     },
     "execution_count": 104,
     "metadata": {},
     "output_type": "execute_result"
    }
   ],
   "source": [
    "get_stock_price(\"TSLA\")"
   ]
  },
  {
   "cell_type": "code",
   "execution_count": 44,
   "id": "14def105",
   "metadata": {},
   "outputs": [],
   "source": [
    "from langchain_community.tools import DuckDuckGoSearchRun\n",
    "\n",
    "search = DuckDuckGoSearchRun()"
   ]
  },
  {
   "cell_type": "code",
   "execution_count": 112,
   "id": "3379f59d",
   "metadata": {},
   "outputs": [],
   "source": [
    "more_tools = [multiply, add, devide, search, get_stock_price]\n",
    "\n",
    "llm_with_tools = llm.bind_tools(tools=more_tools)\n",
    "\n",
    "SYSTEM_PROMPT = \"You are a helpful AI assitance, answering users query with search and arithmetic input\"\n",
    "\n",
    "def llm_node(state:MessagesState):\n",
    "    query = state[\"messages\"]\n",
    "    prompt = [SYSTEM_PROMPT] + query\n",
    "    resp = llm_with_tools.invoke(prompt)\n",
    "    return {\"messages\": [resp]}"
   ]
  },
  {
   "cell_type": "code",
   "execution_count": 113,
   "id": "43244324",
   "metadata": {},
   "outputs": [],
   "source": [
    "from langgraph.prebuilt import tools_condition\n",
    "\n",
    "graph = StateGraph(MessagesState)\n",
    "\n",
    "graph.add_node(\"my_llm_node\", llm_node)\n",
    "graph.add_node(\"tools\", ToolNode(more_tools))\n",
    "\n",
    "graph.add_edge(START, \"my_llm_node\")\n",
    "graph.add_conditional_edges(\"my_llm_node\", tools_condition)\n",
    "graph.add_edge(\"tools\", \"my_llm_node\")\n",
    "\n",
    "react_graph = graph.compile()\n"
   ]
  },
  {
   "cell_type": "code",
   "execution_count": 114,
   "id": "8c368449",
   "metadata": {},
   "outputs": [
    {
     "data": {
      "image/png": "[encoded data removed]",
      "text/plain": [
       "<IPython.core.display.Image object>"
      ]
     },
     "metadata": {},
     "output_type": "display_data"
    }
   ],
   "source": [
    "display(Image(react_graph.get_graph().draw_mermaid_png()))"
   ]
  },
  {
   "cell_type": "code",
   "execution_count": 115,
   "id": "95d4511a",
   "metadata": {},
   "outputs": [
    {
     "data": {
      "text/plain": [
       "{'messages': [HumanMessage(content=\"Multiply Narendra Modi's age with 2\", additional_kwargs={}, response_metadata={}, id='f9f0a511-3fbc-449c-b9ba-66ffe7716497'),\n",
       "  AIMessage(content='', additional_kwargs={'tool_calls': [{'id': 'x91s1ej87', 'function': {'arguments': '{\"query\":\"Narendra Modi age 2023\"}', 'name': 'duckduckgo_search'}, 'type': 'function'}]}, response_metadata={'token_usage': {'completion_tokens': 110, 'prompt_tokens': 377, 'total_tokens': 487, 'completion_time': 0.479268705, 'prompt_time': 0.025822631, 'queue_time': 0.22120063299999998, 'total_time': 0.505091336}, 'model_name': 'deepseek-r1-distill-llama-70b', 'system_fingerprint': 'fp_1bbe7845ec', 'finish_reason': 'tool_calls', 'logprobs': None}, id='run--8204b949-cf11-48c2-9e7d-648046832ab4-0', tool_calls=[{'name': 'duckduckgo_search', 'args': {'query': 'Narendra Modi age 2023'}, 'id': 'x91s1ej87', 'type': 'tool_call'}], usage_metadata={'input_tokens': 377, 'output_tokens': 110, 'total_tokens': 487}),\n",
       "  ToolMessage(content='Narendra Modi is the 14th prime minister of India. His Hindu nationalist policies and some of his economic reforms have proved controversial to many within and outside India. List of all Prime Ministers of India till 2025: Narendra Modi is the current and 14th Prime Minister of India who assumed office on 10 June 2024. How PM Modi marked his birthday over the years? 2023: PM Narendra Modi announced the PM Vishwakarma Yojana to enhance the skilling of craftsmen and artisans in the country. Prime Minister Narendra Modi is set to turn 74 on Tuesday, September 17, adding another glorious year to his decades of public service. Narendra Modi Biography Prime Minister Narendra Modi: Narendra Modi, born on September 17, 1950, in Vadnagar, Gujarat, India, is an Indian politician who has served as the Prime Minister of India since May 2014. He belongs to the Bharatiya Janata Party (BJP), a right-wing political party in India.', name='duckduckgo_search', id='ca64b7e9-9ba2-48ee-916a-d89cd772cb0f', tool_call_id='x91s1ej87'),\n",
       "  AIMessage(content='', additional_kwargs={'tool_calls': [{'id': 'frhcs4dxf', 'function': {'arguments': '{\"a\":73,\"b\":2}', 'name': 'multiply'}, 'type': 'function'}]}, response_metadata={'token_usage': {'completion_tokens': 149, 'prompt_tokens': 642, 'total_tokens': 791, 'completion_time': 0.541818182, 'prompt_time': 0.048050034, 'queue_time': 0.221651407, 'total_time': 0.589868216}, 'model_name': 'deepseek-r1-distill-llama-70b', 'system_fingerprint': 'fp_1bbe7845ec', 'finish_reason': 'tool_calls', 'logprobs': None}, id='run--2d4a454b-05e7-49dd-9192-e9ed9748e366-0', tool_calls=[{'name': 'multiply', 'args': {'a': 73, 'b': 2}, 'id': 'frhcs4dxf', 'type': 'tool_call'}], usage_metadata={'input_tokens': 642, 'output_tokens': 149, 'total_tokens': 791}),\n",
       "  ToolMessage(content='146', name='multiply', id='2aea9795-71b3-4245-b089-9794b0fec36c', tool_call_id='frhcs4dxf'),\n",
       "  AIMessage(content=\"Narendra Modi's age in 2023 is 73. Multiplying that by 2 gives:\\n\\n73 × 2 = 146\\n\\n**Answer:** 146\", additional_kwargs={}, response_metadata={'token_usage': {'completion_tokens': 156, 'prompt_tokens': 695, 'total_tokens': 851, 'completion_time': 0.567272727, 'prompt_time': 0.056495837, 'queue_time': 0.220504388, 'total_time': 0.623768564}, 'model_name': 'deepseek-r1-distill-llama-70b', 'system_fingerprint': 'fp_1bbe7845ec', 'finish_reason': 'stop', 'logprobs': None}, id='run--c0bf2be6-db97-453c-a46c-57a18abe0d9c-0', usage_metadata={'input_tokens': 695, 'output_tokens': 156, 'total_tokens': 851})]}"
      ]
     },
     "execution_count": 115,
     "metadata": {},
     "output_type": "execute_result"
    }
   ],
   "source": [
    "from langchain_core.messages import HumanMessage, SystemMessage\n",
    "message = [HumanMessage(content=\"Multiply Narendra Modi's age with 2\")]\n",
    "react_graph.invoke({\"messages\": message})"
   ]
  },
  {
   "cell_type": "code",
   "execution_count": 122,
   "id": "a5fa7c14",
   "metadata": {},
   "outputs": [
    {
     "data": {
      "text/plain": [
       "{'messages': [HumanMessage(content='add 200 to the stock price of TSLA and then multiply result by 2', additional_kwargs={}, response_metadata={}, id='805f0e21-1386-4d24-a5ef-5460c5cba6db'),\n",
       "  AIMessage(content='', additional_kwargs={'tool_calls': [{'id': '674qebtdk', 'function': {'arguments': '{\"ticker\":\"TSLA\"}', 'name': 'get_stock_price'}, 'type': 'function'}]}, response_metadata={'token_usage': {'completion_tokens': 237, 'prompt_tokens': 387, 'total_tokens': 624, 'completion_time': 0.861818182, 'prompt_time': 0.032880549, 'queue_time': 0.219026607, 'total_time': 0.894698731}, 'model_name': 'deepseek-r1-distill-llama-70b', 'system_fingerprint': 'fp_1bbe7845ec', 'finish_reason': 'tool_calls', 'logprobs': None}, id='run--d60bd54f-77c8-4d1f-81c0-ea392f11f2d7-0', tool_calls=[{'name': 'get_stock_price', 'args': {'ticker': 'TSLA'}, 'id': '674qebtdk', 'type': 'tool_call'}], usage_metadata={'input_tokens': 387, 'output_tokens': 237, 'total_tokens': 624}),\n",
       "  ToolMessage(content='340.47', name='get_stock_price', id='5a80687c-d562-4e90-b2ac-5aabdb318347', tool_call_id='674qebtdk'),\n",
       "  AIMessage(content='', additional_kwargs={'tool_calls': [{'id': 'xqhvqqx42', 'function': {'arguments': '{\"ticker\":\"TSLA\"}', 'name': 'get_stock_price'}, 'type': 'function'}]}, response_metadata={'token_usage': {'completion_tokens': 115, 'prompt_tokens': 881, 'total_tokens': 996, 'completion_time': 0.472051374, 'prompt_time': 0.068528116, 'queue_time': -0.7277506939999999, 'total_time': 0.54057949}, 'model_name': 'deepseek-r1-distill-llama-70b', 'system_fingerprint': 'fp_1bbe7845ec', 'finish_reason': 'tool_calls', 'logprobs': None}, id='run--1663c828-c449-46f0-b402-8ec3bfd0d67b-0', tool_calls=[{'name': 'get_stock_price', 'args': {'ticker': 'TSLA'}, 'id': 'xqhvqqx42', 'type': 'tool_call'}], usage_metadata={'input_tokens': 881, 'output_tokens': 115, 'total_tokens': 996}),\n",
       "  ToolMessage(content='340.47', name='get_stock_price', id='bf7093ac-dc7d-4a29-a4c6-398222735dc6', tool_call_id='xqhvqqx42'),\n",
       "  AIMessage(content='', additional_kwargs={'tool_calls': [{'id': '0w7brezwg', 'function': {'arguments': '{\"ticker\":\"TSLA\"}', 'name': 'get_stock_price'}, 'type': 'function'}]}, response_metadata={'token_usage': {'completion_tokens': 792, 'prompt_tokens': 496, 'total_tokens': 1288, 'completion_time': 2.99151348, 'prompt_time': 0.039030263, 'queue_time': 0.216756711, 'total_time': 3.030543743}, 'model_name': 'deepseek-r1-distill-llama-70b', 'system_fingerprint': 'fp_1bbe7845ec', 'finish_reason': 'tool_calls', 'logprobs': None}, id='run--bae1ec01-deec-4607-8d8d-8d8d2a8feaaa-0', tool_calls=[{'name': 'get_stock_price', 'args': {'ticker': 'TSLA'}, 'id': '0w7brezwg', 'type': 'tool_call'}], usage_metadata={'input_tokens': 496, 'output_tokens': 792, 'total_tokens': 1288}),\n",
       "  ToolMessage(content='340.47', name='get_stock_price', id='a6d6d098-2247-4cad-b4fb-e605e7ddb9ea', tool_call_id='0w7brezwg'),\n",
       "  AIMessage(content='', additional_kwargs={'tool_calls': [{'id': 't9serkscy', 'function': {'arguments': '{\"a\":340,\"b\":200}', 'name': 'add'}, 'type': 'function'}]}, response_metadata={'token_usage': {'completion_tokens': 8192, 'prompt_tokens': 551, 'total_tokens': 8743, 'completion_time': 29.789090909, 'prompt_time': 0.035487462, 'queue_time': 0.24476404300000001, 'total_time': 29.824578371}, 'model_name': 'deepseek-r1-distill-llama-70b', 'system_fingerprint': 'fp_1bbe7845ec', 'finish_reason': 'tool_calls', 'logprobs': None}, id='run--40c931cf-aa44-4e59-8f67-5124e54e62ad-0', tool_calls=[{'name': 'add', 'args': {'a': 340, 'b': 200}, 'id': 't9serkscy', 'type': 'tool_call'}], usage_metadata={'input_tokens': 551, 'output_tokens': 8192, 'total_tokens': 8743}),\n",
       "  ToolMessage(content='540', name='add', id='62d9a996-bd9e-4d8e-95fd-307490b35dbe', tool_call_id='t9serkscy'),\n",
       "  AIMessage(content='', additional_kwargs={'tool_calls': [{'id': '8cpsg4b31', 'function': {'arguments': '{\"a\":540,\"b\":2}', 'name': 'multiply'}, 'type': 'function'}]}, response_metadata={'token_usage': {'completion_tokens': 55, 'prompt_tokens': 604, 'total_tokens': 659, 'completion_time': 0.2, 'prompt_time': 0.056102371, 'queue_time': 0.218645924, 'total_time': 0.256102371}, 'model_name': 'deepseek-r1-distill-llama-70b', 'system_fingerprint': 'fp_1bbe7845ec', 'finish_reason': 'tool_calls', 'logprobs': None}, id='run--1efbe9ca-2171-4ce0-89a1-9837e7f03d22-0', tool_calls=[{'name': 'multiply', 'args': {'a': 540, 'b': 2}, 'id': '8cpsg4b31', 'type': 'tool_call'}], usage_metadata={'input_tokens': 604, 'output_tokens': 55, 'total_tokens': 659}),\n",
       "  ToolMessage(content='1080', name='multiply', id='eb74e853-dc28-4f9a-be17-1793e73374f9', tool_call_id='8cpsg4b31'),\n",
       "  AIMessage(content='First, we get the stock price of TSLA, which is **340.47**.\\n\\nNext, we add 200 to the stock price:\\n\\\\[ 340.47 + 200 = 540.47 \\\\]\\n\\nThen, we multiply the result by 2:\\n\\\\[ 540.47 \\\\times 2 = 1080.94 \\\\]\\n\\nThe final result is **1080.94**.', additional_kwargs={}, response_metadata={'token_usage': {'completion_tokens': 254, 'prompt_tokens': 658, 'total_tokens': 912, 'completion_time': 0.923636364, 'prompt_time': 0.046413705, 'queue_time': 0.219406517, 'total_time': 0.970050069}, 'model_name': 'deepseek-r1-distill-llama-70b', 'system_fingerprint': 'fp_1bbe7845ec', 'finish_reason': 'stop', 'logprobs': None}, id='run--2f0ce770-16a2-48c2-a6f9-d4695cf6e9f7-0', usage_metadata={'input_tokens': 658, 'output_tokens': 254, 'total_tokens': 912})]}"
      ]
     },
     "execution_count": 122,
     "metadata": {},
     "output_type": "execute_result"
    }
   ],
   "source": [
    "from langchain_core.messages import HumanMessage, SystemMessage\n",
    "message = [HumanMessage(content=\"add 200 to the stock price of TSLA and then multiply result by 2\")]\n",
    "react_graph.invoke({\"messages\": message})"
   ]
  },
  {
   "cell_type": "code",
   "execution_count": null,
   "id": "aa06d576",
   "metadata": {},
   "outputs": [],
   "source": []
  }
 ],
 "metadata": {
  "kernelspec": {
   "display_name": "Python 3",
   "language": "python",
   "name": "python3"
  },
  "language_info": {
   "codemirror_mode": {
    "name": "ipython",
    "version": 3
   },
   "file_extension": ".py",
   "mimetype": "text/x-python",
   "name": "python",
   "nbconvert_exporter": "python",
   "pygments_lexer": "ipython3",
   "version": "3.13.0"
  }
 },
 "nbformat": 4,
 "nbformat_minor": 5
}
