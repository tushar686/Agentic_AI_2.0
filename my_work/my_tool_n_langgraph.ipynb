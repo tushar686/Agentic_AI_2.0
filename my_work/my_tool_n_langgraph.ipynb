{
 "cells": [
  {
   "cell_type": "code",
   "execution_count": 2,
   "id": "31d92390",
   "metadata": {},
   "outputs": [],
   "source": [
    "from dotenv import load_dotenv\n",
    "import os\n",
    "\n",
    "load_dotenv()\n",
    "\n",
    "os.environ[\"OPENAI_API_KEY\"] = os.getenv(\"OPENAI_API_KEY\")\n",
    "os.environ[\"LANGCHAIN_API_KEY\"] = os.getenv(\"LANGCHAIN_API_KEY\")\n",
    "os.environ[\"GROQ_API_KEY\"] = os.getenv(\"GROQ_API_KEY\")\n",
    "os.environ[\"GEMINI_API_KEY\"] = os.getenv(\"GEMINI_API_KEY\")\n",
    "\n",
    "#Langsmith Tracking And Tracing\n",
    "os.environ[\"LANGCHAIN_PROJECT\"] = os.getenv(\"LANGCHAIN_PROJECT\")\n",
    "os.environ[\"LANGCHAIN_TRACING_V2\"] = \"true\"\n",
    "os.environ[\"TAVILY_API_KEY\"]=os.getenv(\"TAVILY_API_KEY\")\n",
    "os.environ['HF_TOKEN']=os.getenv(\"HF_TOKEN\")"
   ]
  },
  {
   "cell_type": "code",
   "execution_count": 3,
   "id": "9d3db134",
   "metadata": {},
   "outputs": [],
   "source": [
    "from langchain_community.tools import WikipediaQueryRun\n",
    "from langchain_community.utilities import WikipediaAPIWrapper\n",
    "\n",
    "api_wrapper = WikipediaAPIWrapper(top_k_results=3, doc_content_chars_max=500)\n",
    "\n",
    "wikipefia_tool = WikipediaQueryRun(api_wrapper=api_wrapper)"
   ]
  },
  {
   "cell_type": "code",
   "execution_count": 4,
   "id": "12b19907",
   "metadata": {},
   "outputs": [
    {
     "data": {
      "text/plain": [
       "\"Page: Elon Musk\\nSummary: Elon Reeve Musk ( EE-lon; born June 28, 1971) is a businessman. He is known for his leadership of Tesla, SpaceX, X (formerly Twitter), and the Department of Government Efficiency (DOGE). Musk has been considered the wealthiest person in the world since 2021; as of May 2025, Forbes estimates his net worth to be US$424.7 billion. \\nBorn to a wealthy family in Pretoria, South Africa, Musk emigrated in 1989 to Canada. He received bachelor's degrees from the University of Penn\""
      ]
     },
     "execution_count": 4,
     "metadata": {},
     "output_type": "execute_result"
    }
   ],
   "source": [
    "resp = wikipefia_tool.run({\"query\": \"Elon Musk\"})\n",
    "resp"
   ]
  },
  {
   "cell_type": "code",
   "execution_count": 5,
   "id": "b58e5445",
   "metadata": {},
   "outputs": [
    {
     "data": {
      "text/plain": [
       "\"['https://www.youtube.com/watch?v=9AuAlWAtAkE&pp=ygUUU2FuZGVlcCBiaGFnYXQgdmxvZ3M%3D', 'https://www.youtube.com/watch?v=JBIDGLw_2nk&pp=ygUUU2FuZGVlcCBiaGFnYXQgdmxvZ3M%3D']\""
      ]
     },
     "execution_count": 5,
     "metadata": {},
     "output_type": "execute_result"
    }
   ],
   "source": [
    "from langchain_community.tools import YouTubeSearchTool\n",
    "\n",
    "tool = YouTubeSearchTool()\n",
    "\n",
    "resp = tool.run(\"Sandeep bhagat vlogs\")\n",
    "resp"
   ]
  },
  {
   "cell_type": "code",
   "execution_count": 6,
   "id": "f5afca66",
   "metadata": {},
   "outputs": [
    {
     "data": {
      "text/plain": [
       "[{'title': 'Air India Flight 171 - Wikipedia',\n",
       "  'url': 'https://en.wikipedia.org/wiki/Air_India_Flight_171',\n",
       "  'content': '**Air India Flight 171** was a regularly scheduled international [Air India](/wiki/Air_India \"Air India\") flight from [Ahmedabad Airport](/wiki/Ahmedabad_Airport \"Ahmedabad Airport\") to [London Gatwick Airport](/wiki/Gatwick_Airport \"Gatwick Airport\"). Shortly after takeoff at 13:38\\xa0IST on 12 June 2025, the [Boeing 787-8 Dreamliner](/wiki/Boeing_787-8_Dreamliner \"Boeing 787-8 Dreamliner\") operating the flight crashed into the [hostel](/wiki/Dormitory \"Dormitory\") block of [B. J. Medical [...] Flight 171 took off from runway 23 of [Ahmedabad Airport](/wiki/Ahmedabad_Airport \"Ahmedabad Airport\") at 13:38 [IST](/wiki/Indian_Standard_Time \"Indian Standard Time\") (08:08 [UTC](/wiki/Coordinated_Universal_Time \"Coordinated Universal Time\")) en route to [London Gatwick](/wiki/Gatwick_Airport \"Gatwick Airport\"). According to [METAR](/wiki/METAR \"METAR\") reports issued around the time of departure, the surface winds at the airport were light, ranging from 3 to 6 knots; the visibility was 6 [...] College](/wiki/B._J._Medical_College,_Ahmedabad \"B. J. Medical College, Ahmedabad\") in the Meghaninagar neighbourhood of [Ahmedabad](/wiki/Ahmedabad \"Ahmedabad\") in [Gujarat](/wiki/Gujarat \"Gujarat\"), India.[[2]](#cite_note-BBCLive-2)[[3]](#cite_note-Roy-2025-3) The plane rose to about 625 feet (191\\xa0m) above the runway before gradually losing altitude while maintaining a roughly level and nose-up orientation. The flight crew issued a [mayday call](/wiki/Mayday \"Mayday\") reporting a loss of',\n",
       "  'score': 0.8565368},\n",
       " {'title': 'Air India flight from Ahmedabad to London cancelled days after ...',\n",
       "  'url': 'https://news.sky.com/story/air-india-flight-from-ahmedabad-to-london-cancelled-days-after-fatal-crash-13384826',\n",
       "  'content': '![An Air India Airlines Boeing 787-8 Dreamliner.\\r\\nFile pic: Reuters](https://e3.365dm.com/25/06/768x432/skynews-air-india-boeing-787-8_6939901.jpg?20250612100837)\\n\\nAn Air India flight from Ahmedabad to London has been cancelled.\\n\\nA spokesperson for the airline said the cancellation was \"due to the unavailability of the aircraft, resulting from airspace restrictions and additional precautionary checks, leading to longer than usual turnaround of aircraft\". [...] ![sky news logo](/resources/sky-news-logo.svg?v=1)\\n![sky news logo](/resources/sky-news-logo-dark.svg?v=1)\\n\\n# Air India flight from Ahmedabad to London cancelled days after fatal crash\\n\\nAir India flight 159 was due to fly the same route and in the same type of aircraft - a Boeing 787-8 Dreamliner - as the one involved in last week\\'s tragedy.\\n\\nTuesday 17 June 2025 11:05, UK [...] It was due to depart from Ahmedabad\\'s Sardar Vallabhbhai Patel International Airport at 1.10pm local time (8.40am UK time). It was set to arrive at London\\'s Gatwick Airport at 6.25pm UK time.\\n\\nAir India\\'s website shows the flight was initially delayed by one hour and 50 minutes before being cancelled.\\n\\nAs a result, passengers have been left stranded at the airport. The next flight from Ahmedabad to London is scheduled for 11.40am local time (7.10am UK time) on Wednesday.',\n",
       "  'score': 0.8497846},\n",
       " {'title': \"Devastating crash threatens Air India's ambitious turnaround - BBC\",\n",
       "  'url': 'https://www.bbc.com/news/articles/cglz239ydrjo',\n",
       "  'content': \"![AFP via Getty Images The back of Air India flight 171 is pictured at the site after it crashed in a residential area near the airport in Ahmedabad on June 12, 2025. A London-bound passenger plane crashed in the Indian city of Ahmedabad on 12 June and all 242 people on board were believed killed, with the jet smashing into buildings housing doctors and their families. ](https://ichef.bbci.co.uk/news/480/cpsprodpb/42bf/live/19a25c40-4bb5-11f0-885d-4db674103002.jpg.webp) [...] ![](https://static.files.bbci.co.uk/bbcdotcom/web/20250616-143050-043f96f72f-web-2.23.1-5/grey-placeholder.png)\\n![AFP via Getty Images This frame grab from AFPTV video footage taken on June 13, 2025 shows Air India's chief executive officer (CEO) Campbell Wilson (2nd L) arriving at the crash site of Air India flight 171 in Ahmedabad.](https://ichef.bbci.co.uk/news/480/cpsprodpb/5c53/live/49863da0-4bba-11f0-8603-af0ae45e013e.jpg.webp)\",\n",
       "  'score': 0.8282873},\n",
       " {'title': 'How the Air India crash investigation is unfolding - BBC',\n",
       "  'url': 'https://www.bbc.com/news/articles/c4gkd555jlko',\n",
       "  'content': \"![Bloomberg via Getty Images Aircraft landing gear at the crash site of Air India Ltd. flight AI171 in Ahmedabad, Gujarat, India, on Thursday, June 12, 2025. An Air India Boeing 787 Dreamliner traveling from Ahmedabad to London's Gatwick airport crashed shortly after taking off, in what stands to be the most serious accident involving the US planemaker's most advanced widebody airliner. Photographer: Siddharaj Solanki/Bloomberg via Getty [...] The London Gatwick-bound aircraft, piloted by Captain Sumeet Sabharwal and co-pilot Clive Kundar, lifted off from the western Indian city of Ahmedabad at 13:39 local time (08:09 GMT) on Thursday, with 242 people and nearly 100 tonnes of fuel on board. Within moments, a mayday call crackled from the cockpit. It would be the last transmission. This was followed by a loss of altitude and a crash engulfed in flames. [...] ![](https://static.files.bbci.co.uk/bbcdotcom/web/20250616-143050-043f96f72f-web-2.23.1-5/grey-placeholder.png)\\n![Reuters Members of Indian Army's engineering arm prepare to remove the wreckage of an Air India aircraft, bound for London's Gatwick Airport, which crashed during take-off from an airport in Ahmedabad, India June 14, 2025. REUTERS/Amit Dave](https://ichef.bbci.co.uk/news/480/cpsprodpb/3a55/live/cb8d9590-4b61-11f0-abc3-41f059ca87b9.jpg.webp)\",\n",
       "  'score': 0.8259413},\n",
       " {'title': \"Air India survivor carries brother's coffin amid questions over ...\",\n",
       "  'url': 'https://www.theguardian.com/world/2025/jun/18/air-india-survivor-attends-brothers-funeral-as-investigators-examine-planes-emergency-systems',\n",
       "  'content': 'Just six days earlier, the Leicester businessman had been sitting with his brother Ajay on the London-bound Boeing 787 Dreamliner that [crashed into a medical college hostel in Ahmedabad](https://www.theguardian.com/world/2025/jun/13/air-india-disaster-rescue-teams-with-sniffer-dogs-comb-site-of-deadly-crash-ahmedabad) after taking off.\\n\\nAll 241 other passengers and crew onboard the flight last Thursday died, as did at least 30 people on the ground, including five medical students.',\n",
       "  'score': 0.7876867}]"
      ]
     },
     "execution_count": 6,
     "metadata": {},
     "output_type": "execute_result"
    }
   ],
   "source": [
    "from langchain_community.tools import TavilySearchResults\n",
    "\n",
    "tool = TavilySearchResults()\n",
    "\n",
    "resp = tool.invoke(\"what happened to recent Air India Ahamdabad London flight\")\n",
    "resp"
   ]
  },
  {
   "cell_type": "code",
   "execution_count": 7,
   "id": "877944b2",
   "metadata": {},
   "outputs": [
    {
     "data": {
      "text/plain": [
       "6"
      ]
     },
     "execution_count": 7,
     "metadata": {},
     "output_type": "execute_result"
    }
   ],
   "source": [
    "from langchain.agents import tool\n",
    "\n",
    "@tool\n",
    "def multiply(a: int, b: int)->int:\n",
    "    '''This tool is for multiplication'''\n",
    "    return a * b\n",
    "\n",
    "resp = multiply.invoke({\"a\":2, \"b\":3})\n",
    "resp"
   ]
  },
  {
   "cell_type": "code",
   "execution_count": 8,
   "id": "dbd33ad5",
   "metadata": {},
   "outputs": [
    {
     "data": {
      "text/plain": [
       "'multiply'"
      ]
     },
     "execution_count": 8,
     "metadata": {},
     "output_type": "execute_result"
    }
   ],
   "source": [
    "multiply.name"
   ]
  },
  {
   "cell_type": "code",
   "execution_count": 9,
   "id": "8d00e173",
   "metadata": {},
   "outputs": [
    {
     "data": {
      "text/plain": [
       "'This tool is for multiplication'"
      ]
     },
     "execution_count": 9,
     "metadata": {},
     "output_type": "execute_result"
    }
   ],
   "source": [
    "multiply.description"
   ]
  },
  {
   "cell_type": "code",
   "execution_count": 10,
   "id": "0a311be6",
   "metadata": {},
   "outputs": [
    {
     "data": {
      "text/plain": [
       "{'a': {'title': 'A', 'type': 'integer'},\n",
       " 'b': {'title': 'B', 'type': 'integer'}}"
      ]
     },
     "execution_count": 10,
     "metadata": {},
     "output_type": "execute_result"
    }
   ],
   "source": [
    "multiply.args"
   ]
  },
  {
   "cell_type": "code",
   "execution_count": 11,
   "id": "ea7d2f94",
   "metadata": {},
   "outputs": [
    {
     "data": {
      "text/plain": [
       "2"
      ]
     },
     "execution_count": 11,
     "metadata": {},
     "output_type": "execute_result"
    }
   ],
   "source": [
    "@tool\n",
    "def get_word_length(word:str)->int:\n",
    "    '''this tool calculates length of word'''\n",
    "    return len(word)\n",
    "\n",
    "resp = get_word_length.invoke(\"hi\")\n",
    "resp"
   ]
  },
  {
   "cell_type": "code",
   "execution_count": 12,
   "id": "cf781a7f",
   "metadata": {},
   "outputs": [
    {
     "data": {
      "text/plain": [
       "'this tool calculates length of word'"
      ]
     },
     "execution_count": 12,
     "metadata": {},
     "output_type": "execute_result"
    }
   ],
   "source": [
    "get_word_length.description"
   ]
  },
  {
   "cell_type": "code",
   "execution_count": 13,
   "id": "5b0458f8",
   "metadata": {},
   "outputs": [],
   "source": [
    "def function_1(first:str)->str:\n",
    "    return f'{first} from first function'\n",
    "\n",
    "def function_2(second:str)->str:\n",
    "    return f' {second} from second function'\n",
    "\n",
    "def function_3():\n",
    "    pass"
   ]
  },
  {
   "cell_type": "code",
   "execution_count": 14,
   "id": "eb95a936",
   "metadata": {},
   "outputs": [
    {
     "name": "stdout",
     "output_type": "stream",
     "text": [
      "tushar from first function\n"
     ]
    },
    {
     "data": {
      "text/plain": [
       "' shinde from second function'"
      ]
     },
     "execution_count": 14,
     "metadata": {},
     "output_type": "execute_result"
    }
   ],
   "source": [
    "print(function_1(\"tushar\"))\n",
    "function_2(\"shinde\")"
   ]
  },
  {
   "cell_type": "code",
   "execution_count": 9,
   "id": "4814c5b6",
   "metadata": {},
   "outputs": [
    {
     "data": {
      "text/plain": [
       "<langgraph.graph.graph.Graph at 0x30a4acad0>"
      ]
     },
     "execution_count": 9,
     "metadata": {},
     "output_type": "execute_result"
    }
   ],
   "source": [
    "from langgraph.graph import Graph\n",
    "\n",
    "workflow = Graph()\n",
    "\n",
    "workflow.add_node(\"fun1\",function_1)\n",
    "workflow.add_node(\"fun2\",function_2)\n",
    "workflow.add_edge(\"fun1\", \"fun2\")\n",
    "workflow.set_entry_point(\"fun1\")\n",
    "workflow.set_finish_point(\"fun2\")"
   ]
  },
  {
   "cell_type": "code",
   "execution_count": 16,
   "id": "9d504c32",
   "metadata": {},
   "outputs": [],
   "source": [
    "app = workflow.compile()"
   ]
  },
  {
   "cell_type": "code",
   "execution_count": 17,
   "id": "9d283ed8",
   "metadata": {},
   "outputs": [
    {
     "data": {
      "image/png": "[encoded data removed]",
      "text/plain": [
       "<IPython.core.display.Image object>"
      ]
     },
     "metadata": {},
     "output_type": "display_data"
    }
   ],
   "source": [
    "from IPython.display import Image, display\n",
    "\n",
    "display(Image(app.get_graph().draw_mermaid_png()))"
   ]
  },
  {
   "cell_type": "code",
   "execution_count": 18,
   "id": "df836296",
   "metadata": {},
   "outputs": [
    {
     "data": {
      "text/plain": [
       "' Tushar from first function from second function'"
      ]
     },
     "execution_count": 18,
     "metadata": {},
     "output_type": "execute_result"
    }
   ],
   "source": [
    "app.invoke(\"Tushar\")"
   ]
  },
  {
   "cell_type": "code",
   "execution_count": 19,
   "id": "e13acfea",
   "metadata": {},
   "outputs": [
    {
     "name": "stdout",
     "output_type": "stream",
     "text": [
      "fun1\n",
      "how are you from first function\n",
      "-----------\n",
      "fun2\n",
      " how are you from first function from second function\n",
      "-----------\n"
     ]
    }
   ],
   "source": [
    "for output in app.stream(\"how are you\"):\n",
    "    for key, val in output.items():\n",
    "        print(key)\n",
    "        print(val)\n",
    "        print('-----------')"
   ]
  },
  {
   "cell_type": "code",
   "execution_count": 10,
   "id": "eacea99e",
   "metadata": {},
   "outputs": [],
   "source": [
    "from langchain_groq import ChatGroq\n",
    "\n",
    "model = ChatGroq(model=\"qwen-qwq-32b\")\n",
    "\n",
    "def llm(input):\n",
    "    resp = model.invoke(input)\n",
    "    return resp.content\n",
    "\n",
    "def token_counter(input):\n",
    "    tokens = input.split()\n",
    "    return f'total tokens are {len(tokens)}'\n",
    "\n",
    "workflow1 = Graph()\n",
    "workflow1.add_node(\"llm\", llm)\n",
    "workflow1.add_node(\"token_counter\", token_counter)\n",
    "workflow1.add_edge(\"llm\", \"token_counter\")\n",
    "workflow1.set_entry_point(\"llm\")\n",
    "workflow1.set_finish_point(\"token_counter\")\n",
    "\n",
    "app1 = workflow1.compile()"
   ]
  },
  {
   "cell_type": "code",
   "execution_count": 21,
   "id": "b8caae76",
   "metadata": {},
   "outputs": [
    {
     "data": {
      "image/png": "[encoded data removed]",
      "text/plain": [
       "<IPython.core.display.Image object>"
      ]
     },
     "metadata": {},
     "output_type": "display_data"
    }
   ],
   "source": [
    "display(Image(app1.get_graph().draw_mermaid_png()))"
   ]
  },
  {
   "cell_type": "code",
   "execution_count": 22,
   "id": "51289ed6",
   "metadata": {},
   "outputs": [
    {
     "data": {
      "text/plain": [
       "'total tokens are 449'"
      ]
     },
     "execution_count": 22,
     "metadata": {},
     "output_type": "execute_result"
    }
   ],
   "source": [
    "app1.invoke(\"what is the capital of india\")"
   ]
  },
  {
   "cell_type": "code",
   "execution_count": 23,
   "id": "d9ee9a7e",
   "metadata": {},
   "outputs": [
    {
     "name": "stdout",
     "output_type": "stream",
     "text": [
      "llm ::: \n",
      "<think>\n",
      "Okay, the user is asking for the capital of India. Let me think. I remember that India's capital isn't Mumbai, even though Mumbai is a major city. Wait, wasn't it shifted from Calcutta to New Delhi at some point? Let me confirm. Yes, during British rule, the capital was Calcutta, but after independence, it was moved to New Delhi. So the current capital is New Delhi. But sometimes people might confuse Delhi and New Delhi. New Delhi is a part of the larger Delhi metropolitan area. So the correct answer should be New Delhi. I should make sure there's no recent changes, but I don't think so. Yeah, that's right. The capital of India is New Delhi.\n",
      "</think>\n",
      "\n",
      "The capital of India is **New Delhi**. \n",
      "\n",
      "New Delhi serves as the administrative, political, and diplomatic center of the country and houses key government institutions, including the Parliament of India, the Rashtrapati Bhavan (President's residence), and numerous foreign embassies. It was officially designated as the capital in 1911, replacing Kolkata (formerly Calcutta), and was built adjacent to the older city of Delhi. \n",
      "\n",
      "If you have any more questions, feel free to ask! 🌟\n",
      "----------\n",
      "token_counter ::: total tokens are 192\n",
      "----------\n"
     ]
    }
   ],
   "source": [
    "for output in app1.stream(\"what is the captial of india\"):\n",
    "    for key, val in output.items():\n",
    "        print(f'{key} ::: {val}')\n",
    "        print('-'*10)"
   ]
  },
  {
   "cell_type": "code",
   "execution_count": 4,
   "id": "59b7fd50",
   "metadata": {},
   "outputs": [],
   "source": [
    "from pydantic import BaseModel, Field\n",
    "\n",
    "class TopicSelectionParser(BaseModel):\n",
    "    Topic:str = Field(description=\"selected topic\")\n",
    "    Reasoning:str = Field(description=\"reasoning behind topic selection\")"
   ]
  },
  {
   "cell_type": "code",
   "execution_count": 5,
   "id": "1064b674",
   "metadata": {},
   "outputs": [
    {
     "data": {
      "text/plain": [
       "'The output should be formatted as a JSON instance that conforms to the JSON schema below.\\n\\nAs an example, for the schema {\"properties\": {\"foo\": {\"title\": \"Foo\", \"description\": \"a list of strings\", \"type\": \"array\", \"items\": {\"type\": \"string\"}}}, \"required\": [\"foo\"]}\\nthe object {\"foo\": [\"bar\", \"baz\"]} is a well-formatted instance of the schema. The object {\"properties\": {\"foo\": [\"bar\", \"baz\"]}} is not well-formatted.\\n\\nHere is the output schema:\\n```\\n{\"properties\": {\"Topic\": {\"description\": \"selected topic\", \"title\": \"Topic\", \"type\": \"string\"}, \"Reasoning\": {\"description\": \"reasoning behind topic selection\", \"title\": \"Reasoning\", \"type\": \"string\"}}, \"required\": [\"Topic\", \"Reasoning\"]}\\n```'"
      ]
     },
     "execution_count": 5,
     "metadata": {},
     "output_type": "execute_result"
    }
   ],
   "source": [
    "from langchain.output_parsers import PydanticOutputParser\n",
    "\n",
    "parser = PydanticOutputParser(pydantic_object=TopicSelectionParser)\n",
    "\n",
    "parser.get_format_instructions()"
   ]
  },
  {
   "cell_type": "code",
   "execution_count": 6,
   "id": "b9055ae4",
   "metadata": {},
   "outputs": [],
   "source": [
    "import operator\n",
    "from typing import TypedDict, Annotated, Sequence\n",
    "from langchain_core.messages import BaseMessage\n",
    "\n",
    "class AgentState(TypedDict):\n",
    "    messages: Annotated[Sequence[BaseMessage], operator.add]"
   ]
  },
  {
   "cell_type": "code",
   "execution_count": 1,
   "id": "3c37bd3b",
   "metadata": {},
   "outputs": [
    {
     "name": "stderr",
     "output_type": "stream",
     "text": [
      "/Users/tusharshinde/code/my/AI/agentic_n_gen_ai/venv/lib/python3.13/site-packages/tqdm/auto.py:21: TqdmWarning: IProgress not found. Please update jupyter and ipywidgets. See https://ipywidgets.readthedocs.io/en/stable/user_install.html\n",
      "  from .autonotebook import tqdm as notebook_tqdm\n"
     ]
    }
   ],
   "source": [
    "from langchain_huggingface import HuggingFaceEmbeddings\n",
    "\n",
    "embeddings = HuggingFaceEmbeddings(model_name=\"all-MiniLM-L6-v2\")\n",
    "\n",
    "import faiss\n",
    "from langchain_community.vectorstores import FAISS\n",
    "\n",
    "new_vector_store = FAISS.load_local(\"faiss_index\", embeddings, allow_dangerous_deserialization=True)\n",
    "\n",
    "retriever = new_vector_store.as_retriever(search_type=\"similarity\", search_kwargs={\"k\": 1})\n"
   ]
  },
  {
   "cell_type": "code",
   "execution_count": 18,
   "id": "e98a2d47",
   "metadata": {},
   "outputs": [],
   "source": [
    "from langchain_core.prompts import PromptTemplate\n",
    "from langchain_core.output_parsers import StrOutputParser\n",
    "from langchain_core.runnables import RunnablePassthrough\n",
    "\n",
    "def format_docs(docs):\n",
    "    return \"\\n\\n\".join(doc.page_content for doc in docs)\n",
    "\n",
    "def function_1(state:AgentState):\n",
    "    print(\"<-- Supervisor -->\")\n",
    "\n",
    "    question = state[\"messages\"][-1]\n",
    "    print(f'question= {question}')\n",
    "    \n",
    "    template=\"\"\"\n",
    "        Your task is to classify the given 'user query' into one of the following categories: [USA,Not Related]. \n",
    "        Respond ONLY with a valid JSON object and nothing else.\n",
    "\n",
    "        User query: {question}\n",
    "        {format_instructions}\n",
    "    \"\"\"\n",
    "\n",
    "    prompt = PromptTemplate(\n",
    "        template = template,\n",
    "        input_variables = [\"question\"],\n",
    "        partial_variables = {\"format_instructions\": parser.get_format_instructions()}\n",
    "    )\n",
    "\n",
    "    chain = prompt | model | parser\n",
    "    resp = chain.invoke({\"question\": question})\n",
    "    \n",
    "    print(f'resp={resp}')\n",
    "    # print(f'resp.Reasoning= {resp.Reasoning}')\n",
    "    # print(f'resp.Topic= {resp.Topic}')\n",
    "\n",
    "    return {\"mesgages\": {resp.Topic}}\n",
    "\n",
    "def function_2(state:AgentState):\n",
    "    print(\"<-- LLM Call -->\")\n",
    "    question = state[\"messages\"][0]\n",
    "    print(f'question= {question}')\n",
    "    query = \"Answer the following question with your knowledge about real world. This is the user querstion \" + question\n",
    "    resp = model.invoke(query)\n",
    "    print(resp)\n",
    "    return {\"messages\": [resp.content]}\n",
    "\n",
    "def function_3(state:AgentState):\n",
    "    print(\"<-- RAG Call -->\")\n",
    "    question = state[\"messages\"][0]\n",
    "\n",
    "    prompt = PromptTemplate(\n",
    "        template=\"\"\"You are an assitant for querion-answering tasks. User the following pieces of retrieved context to answer the question. If you don't \n",
    "        know the answer, just say that you don't know. User three sentences maximum and keep the answer concise. \\nQuestion: {question} \\nContext: {context} \n",
    "        \\n Answer:\n",
    "        \"\"\",\n",
    "        input_variables=['context', 'question']\n",
    "    )\n",
    "\n",
    "    rag_chain = (\n",
    "        {\"context\": retriever | format_docs, \"question\": RunnablePassthrough()}\n",
    "        | prompt\n",
    "        | model\n",
    "        | StrOutputParser()\n",
    "    )\n",
    "\n",
    "    result = rag_chain.invoke(question)\n",
    "    return {\"messages\": [result]}\n",
    "\n",
    "\n",
    "# state = {\"messages\": [\"what is the captial of France\"]}\n",
    "# function_1(state)"
   ]
  },
  {
   "cell_type": "code",
   "execution_count": 19,
   "id": "9bc642f9",
   "metadata": {},
   "outputs": [],
   "source": [
    "def router(state: AgentState):\n",
    "    print(\"<-- Router -->\")\n",
    "    last_message = state[\"messages\"][-1]\n",
    "    print(f'{last_message=}')\n",
    "\n",
    "    if \"usa\" in last_message.lower():\n",
    "        return \"RAG Call\"\n",
    "    return \"LLM Call\""
   ]
  },
  {
   "cell_type": "code",
   "execution_count": 20,
   "id": "5d81aaf4",
   "metadata": {},
   "outputs": [],
   "source": [
    "from langgraph.graph import StateGraph, END\n",
    "\n",
    "workflow2 = StateGraph(AgentState)\n",
    "\n",
    "workflow2.add_node(\"Supervisor\", function_1)\n",
    "workflow2.add_node(\"LLM\", function_2)\n",
    "workflow2.add_node(\"RAG\", function_3)\n",
    "\n",
    "workflow2.set_entry_point(\"Supervisor\")\n",
    "\n",
    "workflow2.add_conditional_edges(\n",
    "    \"Supervisor\",\n",
    "    router,\n",
    "    {\n",
    "        \"LLM Call\": \"LLM\",\n",
    "        \"RAG Call\": \"RAG\",\n",
    "    }\n",
    ")\n",
    "\n",
    "\n",
    "app2 = workflow2.compile()\n",
    "\n",
    "# display(Image(app2.get_graph().draw_mermaid_png()))"
   ]
  },
  {
   "cell_type": "code",
   "execution_count": 21,
   "id": "b50140d1",
   "metadata": {},
   "outputs": [
    {
     "name": "stdout",
     "output_type": "stream",
     "text": [
      "<-- Supervisor -->\n",
      "question= what is the captial of USA\n",
      "resp=Topic='USA' Reasoning=\"The user is asking about the capital of the USA, which directly relates to geographical or political information about the United States. The query is specifically focused on a key fact about the country, making it clearly relevant to the 'USA' category.\"\n",
      "<-- Router -->\n",
      "last_message='what is the captial of USA'\n",
      "<-- RAG Call -->\n"
     ]
    },
    {
     "data": {
      "text/plain": [
       "{'messages': ['what is the captial of USA',\n",
       "  \"\\n<think>\\nOkay, the user is asking for the capital of the USA. Let me check the provided context. The given text seems to be a quote, possibly from a speech, but I don't see any mention of the capital there. The context doesn't include information about geographical or political facts like capital cities. Since the answer isn't in the provided texts, I should state that I don't know based on the given information. The correct answer is Washington, D.C., but since it's not in the context, I can't mention it.\\n</think>\\n\\nThe provided context does not contain information about the capital of the USA. I do not have access to external knowledge beyond the given texts. Therefore, I cannot answer this question based on the provided materials. \\n\\nAnswer: I don't know.\"]}"
      ]
     },
     "execution_count": 21,
     "metadata": {},
     "output_type": "execute_result"
    }
   ],
   "source": [
    "app2.invoke({\"messages\": [\"what is the captial of USA\"]})"
   ]
  },
  {
   "cell_type": "code",
   "execution_count": 22,
   "id": "425ad9ea",
   "metadata": {},
   "outputs": [
    {
     "name": "stdout",
     "output_type": "stream",
     "text": [
      "<-- Supervisor -->\n",
      "question= what is the captial of France\n",
      "resp=Topic='Not Related' Reasoning=\"The user query asks about the capital of France, which is a question related to France, not the United States. Therefore, it does not fall under the 'USA' category and is classified as 'Not Related'.\"\n",
      "<-- Router -->\n",
      "last_message='what is the captial of France'\n",
      "<-- LLM Call -->\n",
      "question= what is the captial of France\n",
      "content=\"\\n<think>\\nOkay, the user is asking for the capital of France. Let me think. I know that France is a country in Western Europe. The capital cities are usually the political or administrative centers of a country. Paris comes to mind immediately. But wait, maybe I should double-check to be sure. Sometimes people confuse countries with similar names or regions. For example, the French Republic has territories elsewhere, but the main capital is definitely Paris. Also, historically, Paris has been the capital for a long time, right? Let me think of other possibilities. Lyon? No, that's a major city but not the capital. Marseille? No, same thing. The Eiffel Tower is in Paris, which is a landmark. The government buildings like the Élysée Palace are there. The president's office is in Paris. So yes, I'm pretty confident the answer is Paris. I don't think there's been any recent changes. Maybe in some alternate reality, but in the real world, it's Paris. I should also remember that the user might be testing basic knowledge here. So the answer is Paris.\\n</think>\\n\\nThe capital of France is **Paris**. It is the country's political, cultural, and economic center, known worldwide for landmarks like the Eiffel Tower, the Louvre Museum, and its historical significance.\" additional_kwargs={} response_metadata={'token_usage': {'completion_tokens': 270, 'prompt_tokens': 35, 'total_tokens': 305, 'completion_time': 0.621677586, 'prompt_time': 0.006173885, 'queue_time': 0.6363298049999999, 'total_time': 0.627851471}, 'model_name': 'qwen-qwq-32b', 'system_fingerprint': 'fp_a91d9c2cfb', 'finish_reason': 'stop', 'logprobs': None} id='run--22f7d790-3abc-4d0a-b230-4e2c86ac53b4-0' usage_metadata={'input_tokens': 35, 'output_tokens': 270, 'total_tokens': 305}\n"
     ]
    },
    {
     "data": {
      "text/plain": [
       "{'messages': ['what is the captial of France',\n",
       "  \"\\n<think>\\nOkay, the user is asking for the capital of France. Let me think. I know that France is a country in Western Europe. The capital cities are usually the political or administrative centers of a country. Paris comes to mind immediately. But wait, maybe I should double-check to be sure. Sometimes people confuse countries with similar names or regions. For example, the French Republic has territories elsewhere, but the main capital is definitely Paris. Also, historically, Paris has been the capital for a long time, right? Let me think of other possibilities. Lyon? No, that's a major city but not the capital. Marseille? No, same thing. The Eiffel Tower is in Paris, which is a landmark. The government buildings like the Élysée Palace are there. The president's office is in Paris. So yes, I'm pretty confident the answer is Paris. I don't think there's been any recent changes. Maybe in some alternate reality, but in the real world, it's Paris. I should also remember that the user might be testing basic knowledge here. So the answer is Paris.\\n</think>\\n\\nThe capital of France is **Paris**. It is the country's political, cultural, and economic center, known worldwide for landmarks like the Eiffel Tower, the Louvre Museum, and its historical significance.\"]}"
      ]
     },
     "execution_count": 22,
     "metadata": {},
     "output_type": "execute_result"
    }
   ],
   "source": [
    "app2.invoke({\"messages\": [\"what is the captial of France\"]})"
   ]
  },
  {
   "cell_type": "code",
   "execution_count": null,
   "id": "cafaa2b0",
   "metadata": {},
   "outputs": [],
   "source": []
  }
 ],
 "metadata": {
  "kernelspec": {
   "display_name": "Python 3",
   "language": "python",
   "name": "python3"
  },
  "language_info": {
   "codemirror_mode": {
    "name": "ipython",
    "version": 3
   },
   "file_extension": ".py",
   "mimetype": "text/x-python",
   "name": "python",
   "nbconvert_exporter": "python",
   "pygments_lexer": "ipython3",
   "version": "3.13.0"
  }
 },
 "nbformat": 4,
 "nbformat_minor": 5
}
